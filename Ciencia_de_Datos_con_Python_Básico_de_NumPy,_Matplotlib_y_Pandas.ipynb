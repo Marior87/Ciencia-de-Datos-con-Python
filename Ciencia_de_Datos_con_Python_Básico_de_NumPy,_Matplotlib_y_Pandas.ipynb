{
  "nbformat": 4,
  "nbformat_minor": 0,
  "metadata": {
    "colab": {
      "name": "Ciencia de Datos con Python. Básico de NumPy, Matplotlib y Pandas.ipynb",
      "provenance": [],
      "collapsed_sections": [],
      "include_colab_link": true
    },
    "kernelspec": {
      "name": "python3",
      "display_name": "Python 3"
    }
  },
  "cells": [
    {
      "cell_type": "markdown",
      "metadata": {
        "id": "view-in-github",
        "colab_type": "text"
      },
      "source": [
        "<a href=\"https://colab.research.google.com/github/Marior87/Ciencia-de-Datos-con-Python/blob/master/Ciencia_de_Datos_con_Python_B%C3%A1sico_de_NumPy%2C_Matplotlib_y_Pandas.ipynb\" target=\"_parent\"><img src=\"https://colab.research.google.com/assets/colab-badge.svg\" alt=\"Open In Colab\"/></a>"
      ]
    },
    {
      "cell_type": "markdown",
      "metadata": {
        "id": "r9VJwAWar1mk",
        "colab_type": "text"
      },
      "source": [
        "# <center><b>Ciencia de Datos con Python. Básico de Numpy, Matplotlib y Pandas"
      ]
    },
    {
      "cell_type": "markdown",
      "metadata": {
        "id": "ZTct0lDBsDxS",
        "colab_type": "text"
      },
      "source": [
        "En este notebook, exploraremos algunas de las librerías más comunes utilizadas en el análisis de datos, difícilmente hoy en día consigamos algún proyecto de Ciencia de Datos en el que no se use por lo menos una de ellas. Acá las analizaremos brevemente y veremos su potencial."
      ]
    },
    {
      "cell_type": "markdown",
      "metadata": {
        "id": "RxHW5UTKssSs",
        "colab_type": "text"
      },
      "source": [
        "## NumPy:"
      ]
    },
    {
      "cell_type": "markdown",
      "metadata": {
        "id": "QkCSfgyIswaf",
        "colab_type": "text"
      },
      "source": [
        "NumPy es una librería que nos permite manipulación numérica de forma eficiente, especialmente para arreglos numéricos multidimensionales. Algunas de sus capacidades serán reveladas a medida que las vayamos usando."
      ]
    },
    {
      "cell_type": "code",
      "metadata": {
        "id": "VN0gA7vPtUpQ",
        "colab_type": "code",
        "colab": {}
      },
      "source": [
        "# Importamos NumPy y le damos su alias característico:\n",
        "import numpy as np"
      ],
      "execution_count": 0,
      "outputs": []
    },
    {
      "cell_type": "code",
      "metadata": {
        "id": "k_ucLHwEtXLY",
        "colab_type": "code",
        "outputId": "2a6c7563-f81a-40f4-86ce-4746ff258805",
        "colab": {
          "base_uri": "https://localhost:8080/",
          "height": 54
        }
      },
      "source": [
        "# Vamos a crear un arreglo bidimensional (una matriz común):\n",
        "x = np.array([[1,5,3],[4,2,6]])\n",
        "x"
      ],
      "execution_count": 0,
      "outputs": [
        {
          "output_type": "execute_result",
          "data": {
            "text/plain": [
              "array([[1, 5, 3],\n",
              "       [4, 2, 6]])"
            ]
          },
          "metadata": {
            "tags": []
          },
          "execution_count": 2
        }
      ]
    },
    {
      "cell_type": "markdown",
      "metadata": {
        "id": "Va6-sgVdt-jL",
        "colab_type": "text"
      },
      "source": [
        "Cuando creamos un arreglo con NumPy, este nos permite acceder a una serie de métodos y atributos muy útiles a la hora de analizar datos, veamos algunos de ellos:"
      ]
    },
    {
      "cell_type": "code",
      "metadata": {
        "id": "wmuoq0-ztXIe",
        "colab_type": "code",
        "outputId": "f77e27b5-c8b9-4730-fe56-7f97b8d4bfe7",
        "colab": {
          "base_uri": "https://localhost:8080/",
          "height": 34
        }
      },
      "source": [
        "# Forma o \"dimensiones\" del arreglo:\n",
        "x.shape"
      ],
      "execution_count": 0,
      "outputs": [
        {
          "output_type": "execute_result",
          "data": {
            "text/plain": [
              "(2, 3)"
            ]
          },
          "metadata": {
            "tags": []
          },
          "execution_count": 3
        }
      ]
    },
    {
      "cell_type": "markdown",
      "metadata": {
        "id": "dpGXNnYchmhz",
        "colab_type": "text"
      },
      "source": [
        "En este caso, se puede leer como que el arreglo tiene 2 filas y 3 columnas. No obstante, recordar que los arreglos pueden ser multidimensionales, perdiéndose esa intuición de \"filas y columnas\". En NumPy, se suele referir a las dimensiones como \"ejes\" o \"axis\". Esta distinción será útil luego para la manipulación de dichas dimensiones."
      ]
    },
    {
      "cell_type": "code",
      "metadata": {
        "id": "84cFM71uxxr4",
        "colab_type": "code",
        "outputId": "967dcb81-5970-4f61-f766-5c22c71bbe9e",
        "colab": {
          "base_uri": "https://localhost:8080/",
          "height": 90
        }
      },
      "source": [
        "# Extraer valores por posición (recordar que en Python el índice inicial es cero).\n",
        "print(\"x[1]:\", x[1]) # Segundo \"elemento\", recorriendo por primera dimensión (filas).\n",
        "print(\"x[0]:\", x[0]) # Primer \"elemento\", recorriendo por primera dimensión (filas).\n",
        "print(\"x[0,2]:\", x[0,2]) # Valor ubicado en la fila \"0\" y columna \"2\".\n",
        "print(\"x[:,1]:\", x[:,1]) # Todos los valores de en la columna \"1\"."
      ],
      "execution_count": 0,
      "outputs": [
        {
          "output_type": "stream",
          "text": [
            "x[1]: [4 2 6]\n",
            "x[0]: [1 5 3]\n",
            "x[0,2]: 3\n",
            "x[:,1]: [5 2]\n"
          ],
          "name": "stdout"
        }
      ]
    },
    {
      "cell_type": "code",
      "metadata": {
        "id": "rfxW_WqKtXAe",
        "colab_type": "code",
        "outputId": "aba47a1a-b090-4f32-81b9-d93fae052a5d",
        "colab": {
          "base_uri": "https://localhost:8080/",
          "height": 72
        }
      },
      "source": [
        "# Mínimo, Máximo, Media:\n",
        "print(\"Máximo:\", np.max(x)) # Valor máximo en el arreglo.\n",
        "print(\"Mínimo:\", np.min(x)) # Valor mínimo en el arreglo.\n",
        "print(\"Media:\", np.mean(x)) # Promedio de todos los valores del arreglo."
      ],
      "execution_count": 0,
      "outputs": [
        {
          "output_type": "stream",
          "text": [
            "Máximo: 6\n",
            "Mínimo: 1\n",
            "Media: 3.5\n"
          ],
          "name": "stdout"
        }
      ]
    },
    {
      "cell_type": "code",
      "metadata": {
        "id": "TXh5TJkew7u3",
        "colab_type": "code",
        "outputId": "831605c0-eae0-4c73-e722-576452ed8c1b",
        "colab": {
          "base_uri": "https://localhost:8080/",
          "height": 54
        }
      },
      "source": [
        "# Valor máximo por \"eje\":\n",
        "print(np.max(x,axis=0)) # Dimensión o eje \"0\" (Columnas).\n",
        "print(np.max(x,axis=1)) # Dimensión o eje \"1\" (Filas)."
      ],
      "execution_count": 0,
      "outputs": [
        {
          "output_type": "stream",
          "text": [
            "[4 5 6]\n",
            "[5 6]\n"
          ],
          "name": "stdout"
        }
      ]
    },
    {
      "cell_type": "code",
      "metadata": {
        "id": "eDcP3tOOufaq",
        "colab_type": "code",
        "outputId": "91d05631-adcb-4ed4-8737-8f2bd02b4931",
        "colab": {
          "base_uri": "https://localhost:8080/",
          "height": 90
        }
      },
      "source": [
        "# Matriz Traspuesta (intercambio de filas y columnas):\n",
        "print(\"Transpuesta de x:\")\n",
        "print(x.T)"
      ],
      "execution_count": 0,
      "outputs": [
        {
          "output_type": "stream",
          "text": [
            "Transpuesta de x:\n",
            "[[1 4]\n",
            " [5 2]\n",
            " [3 6]]\n"
          ],
          "name": "stdout"
        }
      ]
    },
    {
      "cell_type": "code",
      "metadata": {
        "id": "SVosHnC0ufXF",
        "colab_type": "code",
        "outputId": "f260b577-a35e-452c-e1dd-46143cf9ce8c",
        "colab": {
          "base_uri": "https://localhost:8080/",
          "height": 54
        }
      },
      "source": [
        "# Broadcasting de operaciones:\n",
        "x**3 # Esto es, aplicar una misma operación a todos los elementos de manera sencilla."
      ],
      "execution_count": 0,
      "outputs": [
        {
          "output_type": "execute_result",
          "data": {
            "text/plain": [
              "array([[  1, 125,  27],\n",
              "       [ 64,   8, 216]])"
            ]
          },
          "metadata": {
            "tags": []
          },
          "execution_count": 12
        }
      ]
    },
    {
      "cell_type": "code",
      "metadata": {
        "id": "_e9XVVu1vcqk",
        "colab_type": "code",
        "outputId": "9f213535-5c98-4c52-a6e2-22dbecd0b92f",
        "colab": {
          "base_uri": "https://localhost:8080/",
          "height": 54
        }
      },
      "source": [
        "# Producto por elemento (element-wise):\n",
        "x*x"
      ],
      "execution_count": 0,
      "outputs": [
        {
          "output_type": "execute_result",
          "data": {
            "text/plain": [
              "array([[ 1, 25,  9],\n",
              "       [16,  4, 36]])"
            ]
          },
          "metadata": {
            "tags": []
          },
          "execution_count": 13
        }
      ]
    },
    {
      "cell_type": "code",
      "metadata": {
        "id": "MVRfnf3KufU6",
        "colab_type": "code",
        "outputId": "6a6d31d4-2365-4b8e-beda-63b79def6b7a",
        "colab": {
          "base_uri": "https://localhost:8080/",
          "height": 52
        }
      },
      "source": [
        "# Multiplicación Matricial:\n",
        "x_tras = x.T\n",
        "x_mult = np.matmul(x,x_tras)\n",
        "print(x_mult)"
      ],
      "execution_count": 0,
      "outputs": [
        {
          "output_type": "stream",
          "text": [
            "[[35 32]\n",
            " [32 56]]\n"
          ],
          "name": "stdout"
        }
      ]
    },
    {
      "cell_type": "markdown",
      "metadata": {
        "id": "UPfnK3A9wC6t",
        "colab_type": "text"
      },
      "source": [
        "Numpy también nos da acceso a funciones útiles para crear datos:"
      ]
    },
    {
      "cell_type": "code",
      "metadata": {
        "id": "Anuk0-fGufSs",
        "colab_type": "code",
        "outputId": "cbd6ef12-cbe6-4df4-97da-e2f1d4aaf8c1",
        "colab": {
          "base_uri": "https://localhost:8080/",
          "height": 35
        }
      },
      "source": [
        "# Datos aleatorios extraídos de una distribución Gaussiana (Normal):\n",
        "data_normal = np.random.randn(10000)\n",
        "\n",
        "# La variable data_normal posee ahora 10000 valores aleatorios extraidos de una\n",
        "# distribución Gaussiana:\n",
        "print(\"Dimensiones data_normal:\", data_normal.shape)"
      ],
      "execution_count": 0,
      "outputs": [
        {
          "output_type": "stream",
          "text": [
            "Dimensiones data_normal: (10000,)\n"
          ],
          "name": "stdout"
        }
      ]
    },
    {
      "cell_type": "code",
      "metadata": {
        "id": "pyjpofSOlT9Z",
        "colab_type": "code",
        "outputId": "80255a0a-5e2e-4f75-aad0-13c000b09bbe",
        "colab": {
          "base_uri": "https://localhost:8080/",
          "height": 35
        }
      },
      "source": [
        "# La media debería ser cercana a cero, los valores en adelante pueden ser diferentes\n",
        "# debido a la aleatoriedad de la función (no hemos usado una semilla, eso lo \n",
        "# dejaremos para otra ocasión).\n",
        "np.mean(data_normal)"
      ],
      "execution_count": 0,
      "outputs": [
        {
          "output_type": "execute_result",
          "data": {
            "text/plain": [
              "0.005947447456339975"
            ]
          },
          "metadata": {
            "tags": []
          },
          "execution_count": 16
        }
      ]
    },
    {
      "cell_type": "code",
      "metadata": {
        "id": "x-vsaxIbwL6n",
        "colab_type": "code",
        "outputId": "00e77915-2335-4463-97ee-61fbfe48a679",
        "colab": {
          "base_uri": "https://localhost:8080/",
          "height": 90
        }
      },
      "source": [
        "# Secuencia de valores espaciados de forma lineal:\n",
        "x_lin = np.linspace(start=0,stop=10,num=20)\n",
        "print(x_lin)"
      ],
      "execution_count": 0,
      "outputs": [
        {
          "output_type": "stream",
          "text": [
            "[ 0.          0.52631579  1.05263158  1.57894737  2.10526316  2.63157895\n",
            "  3.15789474  3.68421053  4.21052632  4.73684211  5.26315789  5.78947368\n",
            "  6.31578947  6.84210526  7.36842105  7.89473684  8.42105263  8.94736842\n",
            "  9.47368421 10.        ]\n"
          ],
          "name": "stdout"
        }
      ]
    },
    {
      "cell_type": "code",
      "metadata": {
        "id": "kDQR2PVCwLuy",
        "colab_type": "code",
        "outputId": "e14c1fb1-2dd2-4591-c9d3-3115f7f0431e",
        "colab": {
          "base_uri": "https://localhost:8080/",
          "height": 35
        }
      },
      "source": [
        "x_lin.shape"
      ],
      "execution_count": 0,
      "outputs": [
        {
          "output_type": "execute_result",
          "data": {
            "text/plain": [
              "(20,)"
            ]
          },
          "metadata": {
            "tags": []
          },
          "execution_count": 18
        }
      ]
    },
    {
      "cell_type": "markdown",
      "metadata": {
        "id": "XN-OLOk_zTpr",
        "colab_type": "text"
      },
      "source": [
        "## Matplotlib:"
      ]
    },
    {
      "cell_type": "markdown",
      "metadata": {
        "id": "Pea48CN_zWLe",
        "colab_type": "text"
      },
      "source": [
        "Matplotlib es una librería que nos permite realizar gráficos con Python. Si bien es cierto que es de relativo bajo nivel (curva de aprendizaje bastante forzada), ofrece una gran cantidad de herramientas útiles para crear gráficos altamente personalizables. Entre algunas de las opciones de alto nivel están Seaborn (basado en Matplotlib) y Plotly. Comenzaremos con Matplotlib:"
      ]
    },
    {
      "cell_type": "code",
      "metadata": {
        "id": "v2LjrWYCnlhw",
        "colab_type": "code",
        "colab": {}
      },
      "source": [
        "# Importamos Matplotlib (bueno, una parte en realidad) y le damos su alias característico:\n",
        "import matplotlib.pyplot as plt"
      ],
      "execution_count": 0,
      "outputs": []
    },
    {
      "cell_type": "markdown",
      "metadata": {
        "id": "4lDF4vvh0Lur",
        "colab_type": "text"
      },
      "source": [
        "Matplotlib ofrece algunos \"estilos\" de visualización para simplificar la forma en la que los gráficos son presentados, y darle cierta uniformidad a la personalización que queramos en los nuestros. Es posible crear estos estilos y guardarlos en nuestra configuración, aunque ello escapa del ámbito de este notebook (referirse a la documentación)."
      ]
    },
    {
      "cell_type": "code",
      "metadata": {
        "id": "jeCJPSAU0JtW",
        "colab_type": "code",
        "outputId": "bb9df827-0b35-4005-ff8e-45f0e3cb5243",
        "colab": {
          "base_uri": "https://localhost:8080/",
          "height": 490
        }
      },
      "source": [
        "# Veamos primero qué estilos tenemos disponibles:\n",
        "plt.style.available"
      ],
      "execution_count": 0,
      "outputs": [
        {
          "output_type": "execute_result",
          "data": {
            "text/plain": [
              "['seaborn',\n",
              " 'seaborn-whitegrid',\n",
              " 'Solarize_Light2',\n",
              " 'seaborn-colorblind',\n",
              " '_classic_test',\n",
              " 'seaborn-bright',\n",
              " 'bmh',\n",
              " 'seaborn-ticks',\n",
              " 'dark_background',\n",
              " 'grayscale',\n",
              " 'seaborn-pastel',\n",
              " 'seaborn-notebook',\n",
              " 'fast',\n",
              " 'seaborn-muted',\n",
              " 'seaborn-deep',\n",
              " 'classic',\n",
              " 'seaborn-paper',\n",
              " 'seaborn-darkgrid',\n",
              " 'seaborn-white',\n",
              " 'seaborn-poster',\n",
              " 'fivethirtyeight',\n",
              " 'seaborn-dark',\n",
              " 'seaborn-talk',\n",
              " 'ggplot',\n",
              " 'seaborn-dark-palette',\n",
              " 'tableau-colorblind10']"
            ]
          },
          "metadata": {
            "tags": []
          },
          "execution_count": 21
        }
      ]
    },
    {
      "cell_type": "code",
      "metadata": {
        "id": "Z93UUWmL0uyR",
        "colab_type": "code",
        "colab": {}
      },
      "source": [
        "# Seleccionamos uno:\n",
        "plt.style.use('ggplot') # Podemos cambiar esto luego y quedarnos con el que más nos guste."
      ],
      "execution_count": 0,
      "outputs": []
    },
    {
      "cell_type": "code",
      "metadata": {
        "id": "of-JFGry24wO",
        "colab_type": "code",
        "outputId": "d6437a60-bd96-47f1-e6c3-a89dac3c62f8",
        "colab": {
          "base_uri": "https://localhost:8080/",
          "height": 283
        }
      },
      "source": [
        "# Grafiquemos una línea y unos puntos en un mismo gráfico.\n",
        "\n",
        "# Creamos los puntos de dispersión añadiendo aleatoriedad gaussiana a los puntos \n",
        "# lineales obtenidos anteriormente.\n",
        "x_dispersion = x_lin + np.random.randn(x_lin.shape[0])\n",
        "\n",
        "plt.plot(x_lin,range(0,len(x_lin)),c='blue') # Gráfico de Línea\n",
        "plt.scatter(x_dispersion,range(0,len(x_dispersion))) # Gráfico de Dispersión\n",
        "plt.title('Gráficos de línea y dispersión');"
      ],
      "execution_count": 0,
      "outputs": [
        {
          "output_type": "display_data",
          "data": {
            "image/png": "[encoded data removed]",
            "text/plain": [
              "<Figure size 432x288 with 1 Axes>"
            ]
          },
          "metadata": {
            "tags": []
          }
        }
      ]
    },
    {
      "cell_type": "markdown",
      "metadata": {
        "id": "hQP7iCiam0zU",
        "colab_type": "text"
      },
      "source": [
        "Como se puede observar en las funciones utilizadas, podemos personalizar el gráfico de manera sencilla, por ejemplo, el color de la línea o de los puntos."
      ]
    },
    {
      "cell_type": "code",
      "metadata": {
        "id": "3viMgn4Tn2WM",
        "colab_type": "code",
        "outputId": "02e75512-1c7a-4f07-ce0e-2bae4e15afac",
        "colab": {
          "base_uri": "https://localhost:8080/",
          "height": 445
        }
      },
      "source": [
        "# Vamos ahora a graficar los datos de la distribución normal que obtuvimos anteriormente.\n",
        "\n",
        "# Creamos una \"figura\" y definimos su tamaño:\n",
        "plt.figure(figsize=(12,7))\n",
        "    # Dato Curioso: Hace poco leí un artículo que decía que los valores ideales \n",
        "    #               para el tamaño de la figura eran aquellos de la secuencia\n",
        "    #               Fibonacci, lo cual en mi caso resultó ser casi cierto. La\n",
        "    #               secuencia más cercana es 13,8. Pero es interesante tenerlo\n",
        "    #               en cuenta para casos más complejos como valores iniciales.\n",
        "\n",
        "# Nota: Técnicamente, no es necesario crear explícitamente la figura, sin embargo,\n",
        "#       aquí la creamos para poder definir con antelación el tamaño de la misma.\n",
        "\n",
        "# Llamamos a la función hist de matplotlib y le pasamos los valores requeridos:\n",
        "plt.hist(data_normal,bins = 50, ec='black', rwidth=0.8)\n",
        "\n",
        "# Añadimos una línea vertical para señalar dónde se encuentra la media:\n",
        "plt.vlines(x=data_normal.mean(),ymin=0,ymax=700,linestyles='--',colors='blue')# El valor de ymax es arbitrario.\n",
        "\n",
        "# Indicamos que no queremos ver la malla:\n",
        "plt.grid(False)\n",
        "\n",
        "# Indicamos que no queremos ver los valores del eje y (frecuencia):\n",
        "plt.yticks([])\n",
        "\n",
        "# Le damos título a nuestro gráfico:\n",
        "plt.title('Valores aleatorios Distribuidos de forma Normal');\n",
        "# El \";\" al final es para evitar que las funciones nos devuelvan referencias a \n",
        "# los objetos creados por Matplotlib."
      ],
      "execution_count": 0,
      "outputs": [
        {
          "output_type": "display_data",
          "data": {
            "image/png": "[encoded data removed]",
            "text/plain": [
              "<Figure size 864x504 with 1 Axes>"
            ]
          },
          "metadata": {
            "tags": []
          }
        }
      ]
    },
    {
      "cell_type": "markdown",
      "metadata": {
        "id": "GiCy3-iGLiit",
        "colab_type": "text"
      },
      "source": [
        "## Pandas:"
      ]
    },
    {
      "cell_type": "markdown",
      "metadata": {
        "id": "ex-W7ukLLkaO",
        "colab_type": "text"
      },
      "source": [
        "Pandas es una librería que nos permite analizar y manipular datos. Ofrece una gran cantidad de herramientas para realizar preparación y análisis exploratorio de los mismos."
      ]
    },
    {
      "cell_type": "code",
      "metadata": {
        "id": "BX7IVFm8n4CE",
        "colab_type": "code",
        "colab": {}
      },
      "source": [
        "# Importamos Pandas y le damos su alias característico:\n",
        "import pandas as pd"
      ],
      "execution_count": 0,
      "outputs": []
    },
    {
      "cell_type": "markdown",
      "metadata": {
        "id": "fhCu2eCGMXze",
        "colab_type": "text"
      },
      "source": [
        "En líneas generales, Pandas se divide en dos estructuras de datos que ofrecen la interfaz de interacción. Estas dos estructuras son \"Series\" y \"DataFrame\". Siendo este un pequeño taller introductorio, nos centraremos en la estructura de datos más común: el DataFrame"
      ]
    },
    {
      "cell_type": "markdown",
      "metadata": {
        "id": "g8YkXTLjNYK0",
        "colab_type": "text"
      },
      "source": [
        "Podemos crear un DataFrame de diversas maneras:"
      ]
    },
    {
      "cell_type": "code",
      "metadata": {
        "id": "PQToezgHn8jz",
        "colab_type": "code",
        "outputId": "2dac9230-3d54-421b-9b1c-45c9c91cd594",
        "colab": {
          "base_uri": "https://localhost:8080/",
          "height": 198
        }
      },
      "source": [
        "# Desde una lista de datos:\n",
        "lista = [1,2,3,4,5,6]\n",
        "df_lista = pd.DataFrame(lista, columns=['Columna1'])\n",
        "df_lista.head() # Esta función devuelve las primeras 5 filas de la tabla."
      ],
      "execution_count": 0,
      "outputs": [
        {
          "output_type": "execute_result",
          "data": {
            "text/html": [
              "<div>\n",
              "<style scoped>\n",
              "    .dataframe tbody tr th:only-of-type {\n",
              "        vertical-align: middle;\n",
              "    }\n",
              "\n",
              "    .dataframe tbody tr th {\n",
              "        vertical-align: top;\n",
              "    }\n",
              "\n",
              "    .dataframe thead th {\n",
              "        text-align: right;\n",
              "    }\n",
              "</style>\n",
              "<table border=\"1\" class=\"dataframe\">\n",
              "  <thead>\n",
              "    <tr style=\"text-align: right;\">\n",
              "      <th></th>\n",
              "      <th>Columna1</th>\n",
              "    </tr>\n",
              "  </thead>\n",
              "  <tbody>\n",
              "    <tr>\n",
              "      <th>0</th>\n",
              "      <td>1</td>\n",
              "    </tr>\n",
              "    <tr>\n",
              "      <th>1</th>\n",
              "      <td>2</td>\n",
              "    </tr>\n",
              "    <tr>\n",
              "      <th>2</th>\n",
              "      <td>3</td>\n",
              "    </tr>\n",
              "    <tr>\n",
              "      <th>3</th>\n",
              "      <td>4</td>\n",
              "    </tr>\n",
              "    <tr>\n",
              "      <th>4</th>\n",
              "      <td>5</td>\n",
              "    </tr>\n",
              "  </tbody>\n",
              "</table>\n",
              "</div>"
            ],
            "text/plain": [
              "   Columna1\n",
              "0         1\n",
              "1         2\n",
              "2         3\n",
              "3         4\n",
              "4         5"
            ]
          },
          "metadata": {
            "tags": []
          },
          "execution_count": 28
        }
      ]
    },
    {
      "cell_type": "markdown",
      "metadata": {
        "id": "Hyx8FDO-Nm3C",
        "colab_type": "text"
      },
      "source": [
        "Aquí observamos algunas cosas importantes de Pandas, en primer lugar, vemos que existe una identificación de filas y columnas. \n",
        "\n",
        "Respecto a las filas, se crea una numeración (comenzando en este caso desde cero) que ayuda a identificarlas. Podemos pensar en ella como el índice de la fila (de hecho, en Pandas se le conoce como \"index\"). Este índice no necesariamente es numérico, puede ser un String o una Fecha (por ejemplo).\n",
        "\n",
        "En cuanto a las columnas, al momento de crear el DataFrame nosotros indicamos el nombre de la columna que se iba a crear, de no haberlo hecho, Pandas le hubiese asignado un valor numérico de la misma manera que lo hizo con los índices.\n",
        "\n",
        "Con índices y columnas podemos realizar operaciones de localización de datos (entre otras, ya que esto constituye la base para ubicar datos específicos)."
      ]
    },
    {
      "cell_type": "code",
      "metadata": {
        "id": "7uEdUoFgP4nt",
        "colab_type": "code",
        "outputId": "c2932ddd-f25d-41d5-9456-0d399b800ead",
        "colab": {
          "base_uri": "https://localhost:8080/",
          "height": 228
        }
      },
      "source": [
        "# Añadamos algunas columnas para visualizar mejor los efectos:\n",
        "lista2 = [7,8,9,10,11,12]\n",
        "lista3 = [13,14,15,16,17,18]\n",
        "indices = ['Primero', 'Segundo', 'Tercero','Cuarto','Quinto', 'Sexto']\n",
        "\n",
        "df_lista2 = pd.DataFrame(data={'Col1':lista, 'Col2':lista2, 'Col3':lista3},index=indices)\n",
        "df_lista2"
      ],
      "execution_count": 0,
      "outputs": [
        {
          "output_type": "execute_result",
          "data": {
            "text/html": [
              "<div>\n",
              "<style scoped>\n",
              "    .dataframe tbody tr th:only-of-type {\n",
              "        vertical-align: middle;\n",
              "    }\n",
              "\n",
              "    .dataframe tbody tr th {\n",
              "        vertical-align: top;\n",
              "    }\n",
              "\n",
              "    .dataframe thead th {\n",
              "        text-align: right;\n",
              "    }\n",
              "</style>\n",
              "<table border=\"1\" class=\"dataframe\">\n",
              "  <thead>\n",
              "    <tr style=\"text-align: right;\">\n",
              "      <th></th>\n",
              "      <th>Col1</th>\n",
              "      <th>Col2</th>\n",
              "      <th>Col3</th>\n",
              "    </tr>\n",
              "  </thead>\n",
              "  <tbody>\n",
              "    <tr>\n",
              "      <th>Primero</th>\n",
              "      <td>1</td>\n",
              "      <td>7</td>\n",
              "      <td>13</td>\n",
              "    </tr>\n",
              "    <tr>\n",
              "      <th>Segundo</th>\n",
              "      <td>2</td>\n",
              "      <td>8</td>\n",
              "      <td>14</td>\n",
              "    </tr>\n",
              "    <tr>\n",
              "      <th>Tercero</th>\n",
              "      <td>3</td>\n",
              "      <td>9</td>\n",
              "      <td>15</td>\n",
              "    </tr>\n",
              "    <tr>\n",
              "      <th>Cuarto</th>\n",
              "      <td>4</td>\n",
              "      <td>10</td>\n",
              "      <td>16</td>\n",
              "    </tr>\n",
              "    <tr>\n",
              "      <th>Quinto</th>\n",
              "      <td>5</td>\n",
              "      <td>11</td>\n",
              "      <td>17</td>\n",
              "    </tr>\n",
              "    <tr>\n",
              "      <th>Sexto</th>\n",
              "      <td>6</td>\n",
              "      <td>12</td>\n",
              "      <td>18</td>\n",
              "    </tr>\n",
              "  </tbody>\n",
              "</table>\n",
              "</div>"
            ],
            "text/plain": [
              "         Col1  Col2  Col3\n",
              "Primero     1     7    13\n",
              "Segundo     2     8    14\n",
              "Tercero     3     9    15\n",
              "Cuarto      4    10    16\n",
              "Quinto      5    11    17\n",
              "Sexto       6    12    18"
            ]
          },
          "metadata": {
            "tags": []
          },
          "execution_count": 29
        }
      ]
    },
    {
      "cell_type": "code",
      "metadata": {
        "id": "-uHOGz_RNk-t",
        "colab_type": "code",
        "outputId": "e93ea530-39ba-4acd-e934-6d872486a2d7",
        "colab": {
          "base_uri": "https://localhost:8080/",
          "height": 108
        }
      },
      "source": [
        "# Localizamos dos filas por su valor de índice:\n",
        "df_lista2.loc[['Primero','Segundo']] # Índices con valor \"Primero\" y \"Segundo\"."
      ],
      "execution_count": 0,
      "outputs": [
        {
          "output_type": "execute_result",
          "data": {
            "text/html": [
              "<div>\n",
              "<style scoped>\n",
              "    .dataframe tbody tr th:only-of-type {\n",
              "        vertical-align: middle;\n",
              "    }\n",
              "\n",
              "    .dataframe tbody tr th {\n",
              "        vertical-align: top;\n",
              "    }\n",
              "\n",
              "    .dataframe thead th {\n",
              "        text-align: right;\n",
              "    }\n",
              "</style>\n",
              "<table border=\"1\" class=\"dataframe\">\n",
              "  <thead>\n",
              "    <tr style=\"text-align: right;\">\n",
              "      <th></th>\n",
              "      <th>Col1</th>\n",
              "      <th>Col2</th>\n",
              "      <th>Col3</th>\n",
              "    </tr>\n",
              "  </thead>\n",
              "  <tbody>\n",
              "    <tr>\n",
              "      <th>Primero</th>\n",
              "      <td>1</td>\n",
              "      <td>7</td>\n",
              "      <td>13</td>\n",
              "    </tr>\n",
              "    <tr>\n",
              "      <th>Segundo</th>\n",
              "      <td>2</td>\n",
              "      <td>8</td>\n",
              "      <td>14</td>\n",
              "    </tr>\n",
              "  </tbody>\n",
              "</table>\n",
              "</div>"
            ],
            "text/plain": [
              "         Col1  Col2  Col3\n",
              "Primero     1     7    13\n",
              "Segundo     2     8    14"
            ]
          },
          "metadata": {
            "tags": []
          },
          "execution_count": 30
        }
      ]
    },
    {
      "cell_type": "code",
      "metadata": {
        "id": "cWURPmQyPL2s",
        "colab_type": "code",
        "outputId": "0c34373f-bf49-4a38-a0a7-9f8fb822ebf9",
        "colab": {
          "base_uri": "https://localhost:8080/",
          "height": 168
        }
      },
      "source": [
        "# Localizamos filas por su posición:\n",
        "df_lista2.iloc[2:] # Filas de la 2 en adelante."
      ],
      "execution_count": 0,
      "outputs": [
        {
          "output_type": "execute_result",
          "data": {
            "text/html": [
              "<div>\n",
              "<style scoped>\n",
              "    .dataframe tbody tr th:only-of-type {\n",
              "        vertical-align: middle;\n",
              "    }\n",
              "\n",
              "    .dataframe tbody tr th {\n",
              "        vertical-align: top;\n",
              "    }\n",
              "\n",
              "    .dataframe thead th {\n",
              "        text-align: right;\n",
              "    }\n",
              "</style>\n",
              "<table border=\"1\" class=\"dataframe\">\n",
              "  <thead>\n",
              "    <tr style=\"text-align: right;\">\n",
              "      <th></th>\n",
              "      <th>Col1</th>\n",
              "      <th>Col2</th>\n",
              "      <th>Col3</th>\n",
              "    </tr>\n",
              "  </thead>\n",
              "  <tbody>\n",
              "    <tr>\n",
              "      <th>Tercero</th>\n",
              "      <td>3</td>\n",
              "      <td>9</td>\n",
              "      <td>15</td>\n",
              "    </tr>\n",
              "    <tr>\n",
              "      <th>Cuarto</th>\n",
              "      <td>4</td>\n",
              "      <td>10</td>\n",
              "      <td>16</td>\n",
              "    </tr>\n",
              "    <tr>\n",
              "      <th>Quinto</th>\n",
              "      <td>5</td>\n",
              "      <td>11</td>\n",
              "      <td>17</td>\n",
              "    </tr>\n",
              "    <tr>\n",
              "      <th>Sexto</th>\n",
              "      <td>6</td>\n",
              "      <td>12</td>\n",
              "      <td>18</td>\n",
              "    </tr>\n",
              "  </tbody>\n",
              "</table>\n",
              "</div>"
            ],
            "text/plain": [
              "         Col1  Col2  Col3\n",
              "Tercero     3     9    15\n",
              "Cuarto      4    10    16\n",
              "Quinto      5    11    17\n",
              "Sexto       6    12    18"
            ]
          },
          "metadata": {
            "tags": []
          },
          "execution_count": 31
        }
      ]
    },
    {
      "cell_type": "code",
      "metadata": {
        "id": "ftncqcIN_5j0",
        "colab_type": "code",
        "outputId": "f4fa7ee4-9b7a-471f-cf82-9ddf23dd59d8",
        "colab": {
          "base_uri": "https://localhost:8080/",
          "height": 227
        }
      },
      "source": [
        "# Localizamos columnas por su posición:\n",
        "df_lista2.iloc[:,1:] # Columnas de la 1 en adelante."
      ],
      "execution_count": 0,
      "outputs": [
        {
          "output_type": "execute_result",
          "data": {
            "text/html": [
              "<div>\n",
              "<style scoped>\n",
              "    .dataframe tbody tr th:only-of-type {\n",
              "        vertical-align: middle;\n",
              "    }\n",
              "\n",
              "    .dataframe tbody tr th {\n",
              "        vertical-align: top;\n",
              "    }\n",
              "\n",
              "    .dataframe thead th {\n",
              "        text-align: right;\n",
              "    }\n",
              "</style>\n",
              "<table border=\"1\" class=\"dataframe\">\n",
              "  <thead>\n",
              "    <tr style=\"text-align: right;\">\n",
              "      <th></th>\n",
              "      <th>Col2</th>\n",
              "      <th>Col3</th>\n",
              "    </tr>\n",
              "  </thead>\n",
              "  <tbody>\n",
              "    <tr>\n",
              "      <th>Primero</th>\n",
              "      <td>7</td>\n",
              "      <td>13</td>\n",
              "    </tr>\n",
              "    <tr>\n",
              "      <th>Segundo</th>\n",
              "      <td>8</td>\n",
              "      <td>14</td>\n",
              "    </tr>\n",
              "    <tr>\n",
              "      <th>Tercero</th>\n",
              "      <td>9</td>\n",
              "      <td>15</td>\n",
              "    </tr>\n",
              "    <tr>\n",
              "      <th>Cuarto</th>\n",
              "      <td>10</td>\n",
              "      <td>16</td>\n",
              "    </tr>\n",
              "    <tr>\n",
              "      <th>Quinto</th>\n",
              "      <td>11</td>\n",
              "      <td>17</td>\n",
              "    </tr>\n",
              "    <tr>\n",
              "      <th>Sexto</th>\n",
              "      <td>12</td>\n",
              "      <td>18</td>\n",
              "    </tr>\n",
              "  </tbody>\n",
              "</table>\n",
              "</div>"
            ],
            "text/plain": [
              "         Col2  Col3\n",
              "Primero     7    13\n",
              "Segundo     8    14\n",
              "Tercero     9    15\n",
              "Cuarto     10    16\n",
              "Quinto     11    17\n",
              "Sexto      12    18"
            ]
          },
          "metadata": {
            "tags": []
          },
          "execution_count": 24
        }
      ]
    },
    {
      "cell_type": "code",
      "metadata": {
        "id": "BdOqJHgpqjGr",
        "colab_type": "code",
        "outputId": "33e8d39a-3a39-4c59-acb8-55f1fe009d6c",
        "colab": {
          "base_uri": "https://localhost:8080/",
          "height": 35
        }
      },
      "source": [
        "df_lista2.iloc[1][0:2][0]"
      ],
      "execution_count": 0,
      "outputs": [
        {
          "output_type": "execute_result",
          "data": {
            "text/plain": [
              "2"
            ]
          },
          "metadata": {
            "tags": []
          },
          "execution_count": 33
        }
      ]
    },
    {
      "cell_type": "code",
      "metadata": {
        "id": "iZpxLlRiTO6V",
        "colab_type": "code",
        "outputId": "3122e593-7eea-4496-a9c5-059afaa4a38f",
        "colab": {
          "base_uri": "https://localhost:8080/",
          "height": 35
        }
      },
      "source": [
        "# Notemos algo interesante:\n",
        "type(df_lista2.iloc[1][0:2][0]) # Tipo de objeto ubicado en la fila 1 (iloc[1]), columnas de la 0 a la 1 ([0:2]), valor en la posición 0 ([0])."
      ],
      "execution_count": 0,
      "outputs": [
        {
          "output_type": "execute_result",
          "data": {
            "text/plain": [
              "numpy.int64"
            ]
          },
          "metadata": {
            "tags": []
          },
          "execution_count": 32
        }
      ]
    },
    {
      "cell_type": "markdown",
      "metadata": {
        "id": "9mv_Kkm6Tyha",
        "colab_type": "text"
      },
      "source": [
        "Pandas utiliza internamente NumPy para algunas de sus funciones, lo cual permite una interacción sin problemas entre ambas."
      ]
    },
    {
      "cell_type": "markdown",
      "metadata": {
        "id": "MIdGIsyzTHc_",
        "colab_type": "text"
      },
      "source": [
        "Para explorar mejor las capacidades de las librerías vistas hasta acá, vamos a utilizar datos reales:"
      ]
    },
    {
      "cell_type": "code",
      "metadata": {
        "id": "zA5YSyeMQTTm",
        "colab_type": "code",
        "outputId": "d4fcc727-943a-4442-fbdc-05929a9af4e3",
        "colab": {
          "base_uri": "https://localhost:8080/",
          "height": 237
        }
      },
      "source": [
        "# Datos de producción diaria de petróleo en Argentina:\n",
        "!wget -O prod_diaria_pet.csv http://datos.minem.gob.ar/dataset/590d1284-fd6d-4686-afd8-b3da5d90a6e9/resource/b3329802-9bb7-4478-8aad-423763ca7623/download/produccin-de-petrleo-promedio-diaria-total-pais.csv"
      ],
      "execution_count": 0,
      "outputs": [
        {
          "output_type": "stream",
          "text": [
            "--2020-01-03 13:50:04--  http://datos.minem.gob.ar/dataset/590d1284-fd6d-4686-afd8-b3da5d90a6e9/resource/b3329802-9bb7-4478-8aad-423763ca7623/download/produccin-de-petrleo-promedio-diaria-total-pais.csv\n",
            "Resolving datos.minem.gob.ar (datos.minem.gob.ar)... 186.33.254.210\n",
            "Connecting to datos.minem.gob.ar (datos.minem.gob.ar)|186.33.254.210|:80... connected.\n",
            "HTTP request sent, awaiting response... 200 OK\n",
            "Length: 3524 (3.4K) [text/csv]\n",
            "Saving to: ‘prod_diaria_pet.csv’\n",
            "\n",
            "\rprod_diaria_pet.csv   0%[                    ]       0  --.-KB/s               \rprod_diaria_pet.csv 100%[===================>]   3.44K  --.-KB/s    in 0s      \n",
            "\n",
            "2020-01-03 13:50:05 (643 MB/s) - ‘prod_diaria_pet.csv’ saved [3524/3524]\n",
            "\n"
          ],
          "name": "stdout"
        }
      ]
    },
    {
      "cell_type": "code",
      "metadata": {
        "id": "LdZ0sAAXX-Xm",
        "colab_type": "code",
        "outputId": "f15896fb-e25a-4fad-8575-71a5caca0e08",
        "colab": {
          "base_uri": "https://localhost:8080/",
          "height": 198
        }
      },
      "source": [
        "# Utilizamos Pandas para leer el archivo csv descargado:\n",
        "df = pd.read_csv('prod_diaria_pet.csv')\n",
        "df.head()"
      ],
      "execution_count": 0,
      "outputs": [
        {
          "output_type": "execute_result",
          "data": {
            "text/html": [
              "<div>\n",
              "<style scoped>\n",
              "    .dataframe tbody tr th:only-of-type {\n",
              "        vertical-align: middle;\n",
              "    }\n",
              "\n",
              "    .dataframe tbody tr th {\n",
              "        vertical-align: top;\n",
              "    }\n",
              "\n",
              "    .dataframe thead th {\n",
              "        text-align: right;\n",
              "    }\n",
              "</style>\n",
              "<table border=\"1\" class=\"dataframe\">\n",
              "  <thead>\n",
              "    <tr style=\"text-align: right;\">\n",
              "      <th></th>\n",
              "      <th>anio</th>\n",
              "      <th>mes</th>\n",
              "      <th>indice_tiempo</th>\n",
              "      <th>produccion_petroleo_promedio_dia_m3</th>\n",
              "    </tr>\n",
              "  </thead>\n",
              "  <tbody>\n",
              "    <tr>\n",
              "      <th>0</th>\n",
              "      <td>2009</td>\n",
              "      <td>4</td>\n",
              "      <td>2009-04</td>\n",
              "      <td>98880.3859</td>\n",
              "    </tr>\n",
              "    <tr>\n",
              "      <th>1</th>\n",
              "      <td>2015</td>\n",
              "      <td>10</td>\n",
              "      <td>2015-10</td>\n",
              "      <td>85122.6448</td>\n",
              "    </tr>\n",
              "    <tr>\n",
              "      <th>2</th>\n",
              "      <td>2014</td>\n",
              "      <td>4</td>\n",
              "      <td>2014-04</td>\n",
              "      <td>81825.8940</td>\n",
              "    </tr>\n",
              "    <tr>\n",
              "      <th>3</th>\n",
              "      <td>2014</td>\n",
              "      <td>12</td>\n",
              "      <td>2014-12</td>\n",
              "      <td>84973.6595</td>\n",
              "    </tr>\n",
              "    <tr>\n",
              "      <th>4</th>\n",
              "      <td>2017</td>\n",
              "      <td>11</td>\n",
              "      <td>2017-11</td>\n",
              "      <td>77720.5201</td>\n",
              "    </tr>\n",
              "  </tbody>\n",
              "</table>\n",
              "</div>"
            ],
            "text/plain": [
              "   anio  mes indice_tiempo  produccion_petroleo_promedio_dia_m3\n",
              "0  2009    4       2009-04                           98880.3859\n",
              "1  2015   10       2015-10                           85122.6448\n",
              "2  2014    4       2014-04                           81825.8940\n",
              "3  2014   12       2014-12                           84973.6595\n",
              "4  2017   11       2017-11                           77720.5201"
            ]
          },
          "metadata": {
            "tags": []
          },
          "execution_count": 36
        }
      ]
    },
    {
      "cell_type": "markdown",
      "metadata": {
        "id": "-NAvLtp3YxrW",
        "colab_type": "text"
      },
      "source": [
        "Los datos no parecen estar ordenados, procedamos a ordenarlos primero por año y luego por mes:"
      ]
    },
    {
      "cell_type": "code",
      "metadata": {
        "id": "Ncq70j4iYFwe",
        "colab_type": "code",
        "colab": {}
      },
      "source": [
        "df = df.sort_values(['anio','mes']).reset_index(drop=True)\n",
        "#reset_index para evitar que Pandas nos mantenga el índice anterior."
      ],
      "execution_count": 0,
      "outputs": []
    },
    {
      "cell_type": "code",
      "metadata": {
        "id": "rIfSiKbjcovB",
        "colab_type": "code",
        "outputId": "4a6a4fba-d91b-4a49-e84a-217ec688a293",
        "colab": {
          "base_uri": "https://localhost:8080/",
          "height": 198
        }
      },
      "source": [
        "df.tail() # Función similar a head pero que nos permite ver los últimos 5 valores."
      ],
      "execution_count": 0,
      "outputs": [
        {
          "output_type": "execute_result",
          "data": {
            "text/html": [
              "<div>\n",
              "<style scoped>\n",
              "    .dataframe tbody tr th:only-of-type {\n",
              "        vertical-align: middle;\n",
              "    }\n",
              "\n",
              "    .dataframe tbody tr th {\n",
              "        vertical-align: top;\n",
              "    }\n",
              "\n",
              "    .dataframe thead th {\n",
              "        text-align: right;\n",
              "    }\n",
              "</style>\n",
              "<table border=\"1\" class=\"dataframe\">\n",
              "  <thead>\n",
              "    <tr style=\"text-align: right;\">\n",
              "      <th></th>\n",
              "      <th>anio</th>\n",
              "      <th>mes</th>\n",
              "      <th>indice_tiempo</th>\n",
              "      <th>produccion_petroleo_promedio_dia_m3</th>\n",
              "    </tr>\n",
              "  </thead>\n",
              "  <tbody>\n",
              "    <tr>\n",
              "      <th>127</th>\n",
              "      <td>2019</td>\n",
              "      <td>8</td>\n",
              "      <td>2019-08</td>\n",
              "      <td>82555.2066</td>\n",
              "    </tr>\n",
              "    <tr>\n",
              "      <th>128</th>\n",
              "      <td>2019</td>\n",
              "      <td>9</td>\n",
              "      <td>2019-09</td>\n",
              "      <td>82197.1441</td>\n",
              "    </tr>\n",
              "    <tr>\n",
              "      <th>129</th>\n",
              "      <td>2019</td>\n",
              "      <td>10</td>\n",
              "      <td>2019-10</td>\n",
              "      <td>81729.1651</td>\n",
              "    </tr>\n",
              "    <tr>\n",
              "      <th>130</th>\n",
              "      <td>2019</td>\n",
              "      <td>11</td>\n",
              "      <td>2019-11</td>\n",
              "      <td>81710.1719</td>\n",
              "    </tr>\n",
              "    <tr>\n",
              "      <th>131</th>\n",
              "      <td>2019</td>\n",
              "      <td>12</td>\n",
              "      <td>2019-12</td>\n",
              "      <td>7.0724</td>\n",
              "    </tr>\n",
              "  </tbody>\n",
              "</table>\n",
              "</div>"
            ],
            "text/plain": [
              "     anio  mes indice_tiempo  produccion_petroleo_promedio_dia_m3\n",
              "127  2019    8       2019-08                           82555.2066\n",
              "128  2019    9       2019-09                           82197.1441\n",
              "129  2019   10       2019-10                           81729.1651\n",
              "130  2019   11       2019-11                           81710.1719\n",
              "131  2019   12       2019-12                               7.0724"
            ]
          },
          "metadata": {
            "tags": []
          },
          "execution_count": 39
        }
      ]
    },
    {
      "cell_type": "code",
      "metadata": {
        "id": "oOZHR8ExdZPs",
        "colab_type": "code",
        "outputId": "eaaf5e95-9dce-4b54-9d0f-115f0c55765d",
        "colab": {
          "base_uri": "https://localhost:8080/",
          "height": 216
        }
      },
      "source": [
        "# El último valor no parece tener sentido, vamos a eliminarlo:\n",
        "# Nota: Haré un condicional puesto que no puedo saber si para cuando se descargue \n",
        "#       esta data en el futuro el valor de la última fila siga sin tener sentido:\n",
        "if (df['produccion_petroleo_promedio_dia_m3'].iloc[-1] == 0):\n",
        "  df = df.drop(df.index[-1])\n",
        "  print('Último valor eliminado.')\n",
        "else:\n",
        "  print('No se eliminó ningún valor.')\n",
        "\n",
        "df.tail()"
      ],
      "execution_count": 0,
      "outputs": [
        {
          "output_type": "stream",
          "text": [
            "No se eliminó ningún valor.\n"
          ],
          "name": "stdout"
        },
        {
          "output_type": "execute_result",
          "data": {
            "text/html": [
              "<div>\n",
              "<style scoped>\n",
              "    .dataframe tbody tr th:only-of-type {\n",
              "        vertical-align: middle;\n",
              "    }\n",
              "\n",
              "    .dataframe tbody tr th {\n",
              "        vertical-align: top;\n",
              "    }\n",
              "\n",
              "    .dataframe thead th {\n",
              "        text-align: right;\n",
              "    }\n",
              "</style>\n",
              "<table border=\"1\" class=\"dataframe\">\n",
              "  <thead>\n",
              "    <tr style=\"text-align: right;\">\n",
              "      <th></th>\n",
              "      <th>anio</th>\n",
              "      <th>mes</th>\n",
              "      <th>indice_tiempo</th>\n",
              "      <th>produccion_petroleo_promedio_dia_m3</th>\n",
              "    </tr>\n",
              "  </thead>\n",
              "  <tbody>\n",
              "    <tr>\n",
              "      <th>127</th>\n",
              "      <td>2019</td>\n",
              "      <td>8</td>\n",
              "      <td>2019-08</td>\n",
              "      <td>82555.2066</td>\n",
              "    </tr>\n",
              "    <tr>\n",
              "      <th>128</th>\n",
              "      <td>2019</td>\n",
              "      <td>9</td>\n",
              "      <td>2019-09</td>\n",
              "      <td>82197.1441</td>\n",
              "    </tr>\n",
              "    <tr>\n",
              "      <th>129</th>\n",
              "      <td>2019</td>\n",
              "      <td>10</td>\n",
              "      <td>2019-10</td>\n",
              "      <td>81729.1651</td>\n",
              "    </tr>\n",
              "    <tr>\n",
              "      <th>130</th>\n",
              "      <td>2019</td>\n",
              "      <td>11</td>\n",
              "      <td>2019-11</td>\n",
              "      <td>81710.1719</td>\n",
              "    </tr>\n",
              "    <tr>\n",
              "      <th>131</th>\n",
              "      <td>2019</td>\n",
              "      <td>12</td>\n",
              "      <td>2019-12</td>\n",
              "      <td>7.0724</td>\n",
              "    </tr>\n",
              "  </tbody>\n",
              "</table>\n",
              "</div>"
            ],
            "text/plain": [
              "     anio  mes indice_tiempo  produccion_petroleo_promedio_dia_m3\n",
              "127  2019    8       2019-08                           82555.2066\n",
              "128  2019    9       2019-09                           82197.1441\n",
              "129  2019   10       2019-10                           81729.1651\n",
              "130  2019   11       2019-11                           81710.1719\n",
              "131  2019   12       2019-12                               7.0724"
            ]
          },
          "metadata": {
            "tags": []
          },
          "execution_count": 40
        }
      ]
    },
    {
      "cell_type": "code",
      "metadata": {
        "id": "SrDgQif9rn9s",
        "colab_type": "code",
        "colab": {}
      },
      "source": [
        "# Descomentar la siguiente línea si se considera que de igual forma se debe borrar\n",
        "# el último valor:\n",
        "#df = df.drop(df.index[-1])"
      ],
      "execution_count": 0,
      "outputs": []
    },
    {
      "cell_type": "code",
      "metadata": {
        "id": "A9QQr-6RYLE9",
        "colab_type": "code",
        "outputId": "795707b8-a2a2-4a80-f144-7fed82ffce7d",
        "colab": {
          "base_uri": "https://localhost:8080/",
          "height": 108
        }
      },
      "source": [
        "# Verifiquemos que no existan datos NaN:\n",
        "df.isna().any()"
      ],
      "execution_count": 0,
      "outputs": [
        {
          "output_type": "execute_result",
          "data": {
            "text/plain": [
              "anio                                   False\n",
              "mes                                    False\n",
              "indice_tiempo                          False\n",
              "produccion_petroleo_promedio_dia_m3    False\n",
              "dtype: bool"
            ]
          },
          "metadata": {
            "tags": []
          },
          "execution_count": 42
        }
      ]
    },
    {
      "cell_type": "markdown",
      "metadata": {
        "id": "-1noUcxHyszi",
        "colab_type": "text"
      },
      "source": [
        "Los datos NaN suelen ser comunes cuando recopilamos datos no curados, así como valores sin sentido (ej: valor cero o negativo cuando sabemos que sería algo imposible). Para ello existen algunas funciones que nos ayudan a tratarlos, la decisión dependerá del contexto de los datos, es decir, debemos aplicar lo que tenga \"mayor sentido\". Recomiendo revisar las funciones provistas en:\n",
        "\n",
        "https://pandas.pydata.org/pandas-docs/stable/reference/frame.html#missing-data-handling"
      ]
    },
    {
      "cell_type": "code",
      "metadata": {
        "id": "6Dwb2DmpefFu",
        "colab_type": "code",
        "colab": {}
      },
      "source": [
        "# Por conveniencia, cambiemos el tipo de datos de una de las columnas a formato de tiempo:\n",
        "df['indice_tiempo'] = pd.to_datetime(df['indice_tiempo'], format='%Y-%m')"
      ],
      "execution_count": 0,
      "outputs": []
    },
    {
      "cell_type": "markdown",
      "metadata": {
        "id": "fVU_yOK2ZTaP",
        "colab_type": "text"
      },
      "source": [
        "Pandas también ofrece una interfaz para realizar gráficos basados en Matplotlib:"
      ]
    },
    {
      "cell_type": "code",
      "metadata": {
        "id": "lW0PNvpSYr1F",
        "colab_type": "code",
        "outputId": "005ecd95-3d45-47d9-9044-cffb37207dad",
        "colab": {
          "base_uri": "https://localhost:8080/",
          "height": 282
        }
      },
      "source": [
        "df.plot(kind='line',x='indice_tiempo',y='produccion_petroleo_promedio_dia_m3');"
      ],
      "execution_count": 0,
      "outputs": [
        {
          "output_type": "display_data",
          "data": {
            "image/png": "[encoded data removed]",
            "text/plain": [
              "<Figure size 432x288 with 1 Axes>"
            ]
          },
          "metadata": {
            "tags": []
          }
        }
      ]
    },
    {
      "cell_type": "markdown",
      "metadata": {
        "id": "XHax4VSA2ToT",
        "colab_type": "text"
      },
      "source": [
        "Aprovechemos este gráfico para aprender una manera más personalizable de hacer gráficos con Pandas. Como ya se dijo, Pandas utiliza Matplotlib para generar los gráficos, por ello podemos mezclar ambas y aprovechar sus beneficios.\n",
        "\n",
        "Antes de comenzar, vamos a crear una nueva columna cuyos valores serán la diferencia entre el valor de la producción en esa fecha y el valor de la fecha anterior, esto es, el cambio que hubo entre meses."
      ]
    },
    {
      "cell_type": "code",
      "metadata": {
        "id": "mP0wkwIU1sW6",
        "colab_type": "code",
        "outputId": "8f0c92f6-e307-4072-e816-b631411b52ea",
        "colab": {
          "base_uri": "https://localhost:8080/",
          "height": 198
        }
      },
      "source": [
        "# La función diff() nos permite calcular precisamente la diferencia entre filas (default) o columnas (axis=1)\n",
        "df['Diferencia'] = df['produccion_petroleo_promedio_dia_m3'].diff()\n",
        "\n",
        "# Puesto que el primer valor no tiene con quien restarse, Pandas lo rellena con \n",
        "# NaN, apliquemos una de las funciones para manejar este tipo de datos:\n",
        "df['Diferencia'] = df['Diferencia'].fillna(0)\n",
        "\n",
        "# Veamos como quedó nuestro DF:\n",
        "df.head()"
      ],
      "execution_count": 0,
      "outputs": [
        {
          "output_type": "execute_result",
          "data": {
            "text/html": [
              "<div>\n",
              "<style scoped>\n",
              "    .dataframe tbody tr th:only-of-type {\n",
              "        vertical-align: middle;\n",
              "    }\n",
              "\n",
              "    .dataframe tbody tr th {\n",
              "        vertical-align: top;\n",
              "    }\n",
              "\n",
              "    .dataframe thead th {\n",
              "        text-align: right;\n",
              "    }\n",
              "</style>\n",
              "<table border=\"1\" class=\"dataframe\">\n",
              "  <thead>\n",
              "    <tr style=\"text-align: right;\">\n",
              "      <th></th>\n",
              "      <th>anio</th>\n",
              "      <th>mes</th>\n",
              "      <th>indice_tiempo</th>\n",
              "      <th>produccion_petroleo_promedio_dia_m3</th>\n",
              "      <th>Diferencia</th>\n",
              "    </tr>\n",
              "  </thead>\n",
              "  <tbody>\n",
              "    <tr>\n",
              "      <th>0</th>\n",
              "      <td>2009</td>\n",
              "      <td>1</td>\n",
              "      <td>2009-01-01</td>\n",
              "      <td>97924.5991</td>\n",
              "      <td>0.0000</td>\n",
              "    </tr>\n",
              "    <tr>\n",
              "      <th>1</th>\n",
              "      <td>2009</td>\n",
              "      <td>2</td>\n",
              "      <td>2009-02-01</td>\n",
              "      <td>100044.0659</td>\n",
              "      <td>2119.4668</td>\n",
              "    </tr>\n",
              "    <tr>\n",
              "      <th>2</th>\n",
              "      <td>2009</td>\n",
              "      <td>3</td>\n",
              "      <td>2009-03-01</td>\n",
              "      <td>99329.5204</td>\n",
              "      <td>-714.5455</td>\n",
              "    </tr>\n",
              "    <tr>\n",
              "      <th>3</th>\n",
              "      <td>2009</td>\n",
              "      <td>4</td>\n",
              "      <td>2009-04-01</td>\n",
              "      <td>98880.3859</td>\n",
              "      <td>-449.1345</td>\n",
              "    </tr>\n",
              "    <tr>\n",
              "      <th>4</th>\n",
              "      <td>2009</td>\n",
              "      <td>5</td>\n",
              "      <td>2009-05-01</td>\n",
              "      <td>98151.9991</td>\n",
              "      <td>-728.3868</td>\n",
              "    </tr>\n",
              "  </tbody>\n",
              "</table>\n",
              "</div>"
            ],
            "text/plain": [
              "   anio  mes indice_tiempo  produccion_petroleo_promedio_dia_m3  Diferencia\n",
              "0  2009    1    2009-01-01                           97924.5991      0.0000\n",
              "1  2009    2    2009-02-01                          100044.0659   2119.4668\n",
              "2  2009    3    2009-03-01                           99329.5204   -714.5455\n",
              "3  2009    4    2009-04-01                           98880.3859   -449.1345\n",
              "4  2009    5    2009-05-01                           98151.9991   -728.3868"
            ]
          },
          "metadata": {
            "tags": []
          },
          "execution_count": 45
        }
      ]
    },
    {
      "cell_type": "markdown",
      "metadata": {
        "id": "rKKhnFZm5Xnj",
        "colab_type": "text"
      },
      "source": [
        "Ahora, vamos a utilizar Pandas y Matplotlib para graficar tanto la producción como la diferencia, para ello nos apoyaremos con la función subplots de matplotlib.pyplot la cual nos devuelve dos objetos, el primero para manipular el gráfico general y el segundo para manipular cada subplot:"
      ]
    },
    {
      "cell_type": "code",
      "metadata": {
        "id": "yXEDhdwA4X1H",
        "colab_type": "code",
        "outputId": "9eadf8af-4414-4ee7-9c1e-95f3b6b4a24c",
        "colab": {
          "base_uri": "https://localhost:8080/",
          "height": 496
        }
      },
      "source": [
        "# Generamos la figura y los \"axes\":\n",
        "fig, axs = plt.subplots(nrows=1, ncols=2,figsize=(15,7))\n",
        "\n",
        "# Definimos un título global:\n",
        "fig.suptitle('Gráficos de Producción y Diferencia',size=20)\n",
        "\n",
        "# Graficamos utilizando Pandas y le pasamos a cada plot el \"axes\" en donde se va a mostrar:\n",
        "df.plot(kind='line',x='indice_tiempo',y='produccion_petroleo_promedio_dia_m3',ax=axs[0],title='Producción')\n",
        "df.plot(kind='line',x='indice_tiempo',y='Diferencia',ax=axs[1],title='Diferencia',c='blue')\n",
        "\n",
        "# También podemos manipular cada axes sin necesidad de utilizar Pandas:\n",
        "axs[0].grid(False) # Manipulamos el primer gráfico.\n",
        "axs[1].legend(loc='lower right'); # Manipulamos el segundo gráfico."
      ],
      "execution_count": 0,
      "outputs": [
        {
          "output_type": "display_data",
          "data": {
            "image/png": "[encoded data removed]",
            "text/plain": [
              "<Figure size 1080x504 with 2 Axes>"
            ]
          },
          "metadata": {
            "tags": []
          }
        }
      ]
    },
    {
      "cell_type": "markdown",
      "metadata": {
        "id": "QJoI-3PsGao5",
        "colab_type": "text"
      },
      "source": [
        "## Spoiler Alert!\n",
        "\n",
        "Lo que veremos en el próximo taller..."
      ]
    },
    {
      "cell_type": "code",
      "metadata": {
        "id": "kjqpLHWHEwnA",
        "colab_type": "code",
        "colab": {}
      },
      "source": [
        "from sklearn import linear_model"
      ],
      "execution_count": 0,
      "outputs": []
    },
    {
      "cell_type": "code",
      "metadata": {
        "id": "MU93wotUIfs0",
        "colab_type": "code",
        "colab": {}
      },
      "source": [
        "# Separamos los valores que conforman los atributos (features) y los objetivos (target)\n",
        "X = df['indice_tiempo'].values.reshape((df.shape[0],1)).astype(int)\n",
        "Y = df['produccion_petroleo_promedio_dia_m3'].values.reshape((df.shape[0],1))\n",
        "\n",
        "# Nota: Los reshape y cast de tipo es por requerimiento de las funciones siguientes"
      ],
      "execution_count": 0,
      "outputs": []
    },
    {
      "cell_type": "code",
      "metadata": {
        "id": "fdOBKHJrE9q_",
        "colab_type": "code",
        "outputId": "45cf7c26-5986-467f-8e73-f79dd02eae5b",
        "colab": {
          "base_uri": "https://localhost:8080/",
          "height": 35
        }
      },
      "source": [
        "# Creamos un modelo regresor sencillo:\n",
        "regresor = linear_model.LinearRegression()\n",
        "\n",
        "#Lo ajustamos a los valores de atributos y objetivos:\n",
        "regresor.fit(X,Y)\n",
        "\n",
        "#Calculamos y mostramos el valor de R cuadrado:\n",
        "r2 = np.round(regresor.score(X,Y),3)\n",
        "print(\"R^2 = {}\".format(r2))"
      ],
      "execution_count": 0,
      "outputs": [
        {
          "output_type": "stream",
          "text": [
            "R^2 = 0.723\n"
          ],
          "name": "stdout"
        }
      ]
    },
    {
      "cell_type": "code",
      "metadata": {
        "id": "kFGbB-iYXMcP",
        "colab_type": "code",
        "colab": {}
      },
      "source": [
        "# Con nuestro \"modelo\" podemos realizar predicciones, hagámoslas con los propios valores de entrada\n",
        "prediccion = regresor.predict(X)"
      ],
      "execution_count": 0,
      "outputs": []
    },
    {
      "cell_type": "code",
      "metadata": {
        "id": "4r9pwPfmIc8S",
        "colab_type": "code",
        "outputId": "3eda54ba-80b0-4c09-cd7c-276fa057a7e4",
        "colab": {
          "base_uri": "https://localhost:8080/",
          "height": 428
        }
      },
      "source": [
        "# Grafiquemos\n",
        "plt.figure(figsize=(12,7))\n",
        "plt.plot(prediccion)\n",
        "plt.plot(df['produccion_petroleo_promedio_dia_m3'])\n",
        "\n",
        "# Añadimos un texto en el gráfico:\n",
        "plt.text(x=60,y=87000,s='$R^2={}$'.format(r2),fontsize=20);"
      ],
      "execution_count": 0,
      "outputs": [
        {
          "output_type": "display_data",
          "data": {
            "image/png": "[encoded data removed]",
            "text/plain": [
              "<Figure size 864x504 with 1 Axes>"
            ]
          },
          "metadata": {
            "tags": []
          }
        }
      ]
    },
    {
      "cell_type": "markdown",
      "metadata": {
        "id": "EvRVaDnduo_n",
        "colab_type": "text"
      },
      "source": [
        "Demostremos que en realidad el modelo calcula los parámetros del modelo lineal:"
      ]
    },
    {
      "cell_type": "markdown",
      "metadata": {
        "id": "hlfXD3ki2H1q",
        "colab_type": "text"
      },
      "source": [
        "<center>$Y = \\theta_0 + \\theta_1X$<br></center>\n",
        "Donde:<br>\n",
        "$\\theta_0:$ Corte en el eje Y.<br>\n",
        "$\\theta_1:$ Coeficiente para el atributo X."
      ]
    },
    {
      "cell_type": "code",
      "metadata": {
        "id": "3xr9V-Y6IzRj",
        "colab_type": "code",
        "outputId": "46ed5423-45f1-49ef-9e55-e215995876c9",
        "colab": {
          "base_uri": "https://localhost:8080/",
          "height": 428
        }
      },
      "source": [
        "# Generamos el intervalo de predicción:\n",
        "linea = regresor.intercept_[0] + regresor.coef_[0][0]*X\n",
        "\n",
        "# Graficamos:\n",
        "plt.figure(figsize=(12,7))\n",
        "\n",
        "plt.plot(prediccion,linewidth=5,c='b')\n",
        "plt.plot(linea,linewidth=3);"
      ],
      "execution_count": 0,
      "outputs": [
        {
          "output_type": "display_data",
          "data": {
            "image/png": "[encoded data removed]",
            "text/plain": [
              "<Figure size 864x504 with 1 Axes>"
            ]
          },
          "metadata": {
            "tags": []
          }
        }
      ]
    },
    {
      "cell_type": "code",
      "metadata": {
        "id": "P7c3Xl10r2OW",
        "colab_type": "code",
        "outputId": "4db34cb8-6d57-4409-85e7-d40447fff4e7",
        "colab": {
          "base_uri": "https://localhost:8080/",
          "height": 35
        }
      },
      "source": [
        "# Calculemos el promedio de la diferencia entre estos dos vectores:\n",
        "diferencia = prediccion - linea\n",
        "diferencia.mean()"
      ],
      "execution_count": 0,
      "outputs": [
        {
          "output_type": "execute_result",
          "data": {
            "text/plain": [
              "0.0"
            ]
          },
          "metadata": {
            "tags": []
          },
          "execution_count": 60
        }
      ]
    },
    {
      "cell_type": "markdown",
      "metadata": {
        "id": "k-tM0tXw5lOh",
        "colab_type": "text"
      },
      "source": [
        "<b>Nota:</b> Recordemos que en series de tiempo como esta, calcular la línea de tendencia no debería ser interpretado más allá de la \"tendencia\", esto es, si es ascendente, descendente o sin cambios. Numéricamente, no podemos interpretar literalmente el que haya un valor que multiplica a la fecha (indice_tiempo). Más allá de lo que arroja el modelo en este caso, lo realmente importante es su interpretación."
      ]
    }
  ]
}