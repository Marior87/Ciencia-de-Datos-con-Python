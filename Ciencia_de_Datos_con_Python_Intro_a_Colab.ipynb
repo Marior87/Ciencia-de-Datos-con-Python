{
  "nbformat": 4,
  "nbformat_minor": 0,
  "metadata": {
    "colab": {
      "name": "Ciencia de Datos con Python. Intro a Colab.ipynb",
      "provenance": [],
      "collapsed_sections": [],
      "include_colab_link": true
    },
    "kernelspec": {
      "name": "python3",
      "display_name": "Python 3"
    }
  },
  "cells": [
    {
      "cell_type": "markdown",
      "metadata": {
        "id": "view-in-github",
        "colab_type": "text"
      },
      "source": [
        "<a href=\"https://colab.research.google.com/github/Marior87/Ciencia-de-Datos-con-Python/blob/master/Ciencia_de_Datos_con_Python_Intro_a_Colab.ipynb\" target=\"_parent\"><img src=\"https://colab.research.google.com/assets/colab-badge.svg\" alt=\"Open In Colab\"/></a>"
      ]
    },
    {
      "cell_type": "markdown",
      "metadata": {
        "id": "xx-PntgS7OlU",
        "colab_type": "text"
      },
      "source": [
        "# <center><b>Ciencia de Datos con Python. Intro a Colab</b></center>\n"
      ]
    },
    {
      "cell_type": "markdown",
      "metadata": {
        "id": "KPmFPzmoMCUB",
        "colab_type": "text"
      },
      "source": [
        "En este notebook vamos a explorar algunas de las características más resaltantes de Google Colab, un entorno de desarrollo en Python basado en los Jupyter Notebooks. Recomiendo abrir y probar este notebook usando el link a Colab en la parte superior debido a limitaciones de GitHub para mostrar ciertos gráficos."
      ]
    },
    {
      "cell_type": "markdown",
      "metadata": {
        "id": "yIMo6ymA_m-L",
        "colab_type": "text"
      },
      "source": [
        "# Tipos de Celdas:"
      ]
    },
    {
      "cell_type": "markdown",
      "metadata": {
        "id": "b9Uw3CVU_pNG",
        "colab_type": "text"
      },
      "source": [
        "En los notebooks de Colab, existen dos tipos de celdas:\n",
        "\n",
        "*   Código: Nos permite ejecutar código Python y de CLI.\n",
        "*   Texto: Nos permite relatar nuestro código, son celdas del tipo Markdown. Incluso permite usar LaTex: $\\frac{n!}{k!(n-k)!} = {n \\choose k}$. Para mayor información de las posibilidades con texto verificar: https://colab.research.google.com/notebooks/markdown_guide.ipynb#scrollTo=uTnBkRyvGvhW\n",
        "\n",
        "<b>Nota:</b> Las celdas tienen \"valor\" en la medida que las ejecutemos, el orden en las que aparecen no tiene \"importancia\". Es decir, una celda que esté arriba de otra no necesariamente fue creada/ejecutada antes de la que está abajo, para saber el orden de ejecución, nos fijamos en el número que aparece al lado de cada celda una vez ejecutada.\n",
        "\n"
      ]
    },
    {
      "cell_type": "markdown",
      "metadata": {
        "id": "EykvvJikAb3y",
        "colab_type": "text"
      },
      "source": [
        "# Entorno de Ejecución:"
      ]
    },
    {
      "cell_type": "markdown",
      "metadata": {
        "id": "HVsZNze7AfGY",
        "colab_type": "text"
      },
      "source": [
        "Colab es un servicio gratuito, ofrece grandes características que evaluaremos más adelante, pero en mi opinión hay dos que merecen una mención especial:\n",
        "\n",
        "\n",
        "*   Los entornos de ejecución tienen tres modalidades: CPU (None), GPU y TPU, dependiendo de la necesidad podemos acceder a cualquiera de ellos con solo seleccionar el requerido en Entorno de ejecución>Cambiar tipo de entorno de ejecución. Nota: Si pasamos de un entorno a otro, perderemos las variables creadas (No se pierde el notebook, solo la \"memoria\")\n",
        "*   Por ser un servicio gratuito, tiene la limitante de que cada sesión tiene una duración máxima de 12 horas, después de la cual la misma se reinicia, haciéndonos perder la \"memoria\" sin perder el notebook, de manera similar que cuando cambiamos de entorno de ejecución.\n",
        "\n",
        "Existen muchas otras cosas que estos notebooks son capaces de ofrecernos, iremos hablando de ellas a medida que progresemos con el taller.\n",
        "\n"
      ]
    },
    {
      "cell_type": "markdown",
      "metadata": {
        "id": "XKYFHTVg7u99",
        "colab_type": "text"
      },
      "source": [
        "# Línea de Comandos:\n",
        "\n",
        "Antes de empezar con la funcionalidad más común de los notebooks en Colab, hablemos un poco de otras funciones que seguramente nos serán de utilidad. Particularmente, resalta la capacidad de usar las celdas de código como una interfaz a la línea de comandos. Para ello, utilizamos el símbolo <!> como keyword que le indica a Colab que vamos a introducir instrucciones a la CLI."
      ]
    },
    {
      "cell_type": "code",
      "metadata": {
        "id": "dWLsh0mJ7tZa",
        "colab_type": "code",
        "colab": {
          "base_uri": "https://localhost:8080/",
          "height": 34
        },
        "outputId": "0358372f-94e2-4332-f1a0-2d2ddefb63ed"
      },
      "source": [
        "!ls"
      ],
      "execution_count": 3,
      "outputs": [
        {
          "output_type": "stream",
          "text": [
            "sample_data\n"
          ],
          "name": "stdout"
        }
      ]
    },
    {
      "cell_type": "markdown",
      "metadata": {
        "id": "I_gNY2638Y-F",
        "colab_type": "text"
      },
      "source": [
        "El comando \"ls\" nos da un listado de los archivos que se encuentran en el directorio actual. De la misma manera, podemos pasar de un directorio a otro (cd \"ruta\"), crear un nuevo directorio (mkdir \"nombre\") y varias otras funciones."
      ]
    },
    {
      "cell_type": "code",
      "metadata": {
        "id": "5lHwSK0b7tJI",
        "colab_type": "code",
        "colab": {}
      },
      "source": [
        "!mkdir Prueba"
      ],
      "execution_count": 0,
      "outputs": []
    },
    {
      "cell_type": "markdown",
      "metadata": {
        "id": "HwmVttEi85OL",
        "colab_type": "text"
      },
      "source": [
        "<b>Nota:</b> Si no hemos empezado a utilizar Python en nuestro notebook, es posible que estos comandos funcionen sin necesidad de precederlos con el símbolo \"!\", sin embargo, esto es recomendable para mantener uniformidad en el notebook y evitar problemas de funcionamiento."
      ]
    },
    {
      "cell_type": "markdown",
      "metadata": {
        "id": "wTvve-3n9V2O",
        "colab_type": "text"
      },
      "source": [
        "Indudablemente, la mayor ventaja que ofrece Colab es la capacidad de brindar una interfaz de desarrollo en Python en cualquier computador sin necesidad de instalación, solo se requiere un navegador común (lo he probado con Chrome, FireFox y Safari y anda bien en ellos) y una cuenta Google (cuenta Gmail).\n",
        "\n",
        "Vamos a realizar algunas pruebas de como podemos utilizar Python en los notebooks de Colab para realizar análisis de datos. Cabe destacar que Colab viene con aún más \"baterías incluídas\": está concebido para realizar análisis de datos, por ende, tiene preinstaladas las librerías más comunes para ello.\n",
        "\n",
        "<b>PS</b>: Si la librería que requiera algún proyecto no está preinstalada, recuerden que estamos en un entorno con capacidad de línea de comandos. ¡Se puede usar pip install \"librería\"!"
      ]
    },
    {
      "cell_type": "markdown",
      "metadata": {
        "id": "DamMMpLR-vf9",
        "colab_type": "text"
      },
      "source": [
        "# Python:"
      ]
    },
    {
      "cell_type": "markdown",
      "metadata": {
        "id": "Ho8EYX17-2bR",
        "colab_type": "text"
      },
      "source": [
        "Como ya se indicó, los Colabs son un entorno de desarrollo en python basados en los famosos jupyter notebooks, esto quiere decir que más allá de crear un programa en Python o ejecutar algunos comandos en dicho lenguaje, tenemos la posibilidad de crear un documento interactivo. Ya hemos visto que podemos utilizarlos como CLI y realizar escritos (como éste que estoy haciendo), hablemos ahora de Python.\n",
        "\n",
        "Antes de empezar, vamos a descargar un archivo que usaremos para mostrar funcionalidad. Por ser este un intro a Colab, no profundizaremos en las librerías/métodos utilizados (eso será en próximos talleres), nos enfocaremos en el poder de Colab."
      ]
    },
    {
      "cell_type": "markdown",
      "metadata": {
        "id": "_z461mNWDgMt",
        "colab_type": "text"
      },
      "source": [
        "El archivo a descargar fue obtenido de la siguiente página oficial:\n",
        "https://datos.gob.ar/dataset/agroindustria-agricultura---estimaciones-agricolas\n"
      ]
    },
    {
      "cell_type": "code",
      "metadata": {
        "id": "YyqmVgVizqwE",
        "colab_type": "code",
        "outputId": "4f5bbd87-b0b7-443f-f88b-4826f2054914",
        "colab": {
          "base_uri": "https://localhost:8080/",
          "height": 303
        }
      },
      "source": [
        "#Descargamos el archivo de interés:\n",
        "!wget -O st_estimacion_soja http://datos.agroindustria.gob.ar/dataset/9e1e77ba-267e-4eaa-a59f-3296e86b5f36/resource/f8732c7c-33d2-4503-8181-396cd348d380/download/serie-de-tiempo-soja.csv"
      ],
      "execution_count": 2,
      "outputs": [
        {
          "output_type": "stream",
          "text": [
            "--2019-11-17 19:27:42--  http://datos.agroindustria.gob.ar/dataset/9e1e77ba-267e-4eaa-a59f-3296e86b5f36/resource/f8732c7c-33d2-4503-8181-396cd348d380/download/serie-de-tiempo-soja.csv\n",
            "Resolving datos.agroindustria.gob.ar (datos.agroindustria.gob.ar)... 181.209.76.201\n",
            "Connecting to datos.agroindustria.gob.ar (datos.agroindustria.gob.ar)|181.209.76.201|:80... connected.\n",
            "HTTP request sent, awaiting response... 302 Object Moved\n",
            "Location: https://datos.agroindustria.gob.ar/dataset/9e1e77ba-267e-4eaa-a59f-3296e86b5f36/resource/f8732c7c-33d2-4503-8181-396cd348d380/download/serie-de-tiempo-soja.csv [following]\n",
            "--2019-11-17 19:27:49--  https://datos.agroindustria.gob.ar/dataset/9e1e77ba-267e-4eaa-a59f-3296e86b5f36/resource/f8732c7c-33d2-4503-8181-396cd348d380/download/serie-de-tiempo-soja.csv\n",
            "Connecting to datos.agroindustria.gob.ar (datos.agroindustria.gob.ar)|181.209.76.201|:443... connected.\n",
            "HTTP request sent, awaiting response... 200 OK\n",
            "Length: 1846 (1.8K) [text/csv]\n",
            "Saving to: ‘st_estimacion_soja’\n",
            "\n",
            "st_estimacion_soja  100%[===================>]   1.80K  --.-KB/s    in 0s      \n",
            "\n",
            "2019-11-17 19:27:51 (156 MB/s) - ‘st_estimacion_soja’ saved [1846/1846]\n",
            "\n"
          ],
          "name": "stdout"
        }
      ]
    },
    {
      "cell_type": "code",
      "metadata": {
        "id": "Vdn2R2bjzwAK",
        "colab_type": "code",
        "colab": {}
      },
      "source": [
        "import pandas as pd\n",
        "import matplotlib.pyplot as plt\n",
        "\n",
        "#Esta parte es solo por efectos de visualización\n",
        "plt.style.use('fivethirtyeight')"
      ],
      "execution_count": 0,
      "outputs": []
    },
    {
      "cell_type": "code",
      "metadata": {
        "id": "ppEf6-c-L4HG",
        "colab_type": "code",
        "colab": {}
      },
      "source": [
        "plt.style.available"
      ],
      "execution_count": 0,
      "outputs": []
    },
    {
      "cell_type": "code",
      "metadata": {
        "id": "CrvWHyft0QQ6",
        "colab_type": "code",
        "outputId": "d9ca6d6a-4843-4c78-e6f6-f25a4e74523e",
        "colab": {
          "base_uri": "https://localhost:8080/",
          "height": 197
        }
      },
      "source": [
        "df = pd.read_csv('st_estimacion_soja')\n",
        "df.head()"
      ],
      "execution_count": 4,
      "outputs": [
        {
          "output_type": "execute_result",
          "data": {
            "text/html": [
              "<div>\n",
              "<style scoped>\n",
              "    .dataframe tbody tr th:only-of-type {\n",
              "        vertical-align: middle;\n",
              "    }\n",
              "\n",
              "    .dataframe tbody tr th {\n",
              "        vertical-align: top;\n",
              "    }\n",
              "\n",
              "    .dataframe thead th {\n",
              "        text-align: right;\n",
              "    }\n",
              "</style>\n",
              "<table border=\"1\" class=\"dataframe\">\n",
              "  <thead>\n",
              "    <tr style=\"text-align: right;\">\n",
              "      <th></th>\n",
              "      <th>indice_tiempo</th>\n",
              "      <th>superficie_sembrada_soja</th>\n",
              "      <th>superficie_cosechada_soja</th>\n",
              "      <th>produccion_soja</th>\n",
              "      <th>rendimiento_soja</th>\n",
              "    </tr>\n",
              "  </thead>\n",
              "  <tbody>\n",
              "    <tr>\n",
              "      <th>0</th>\n",
              "      <td>1969</td>\n",
              "      <td>30470</td>\n",
              "      <td>25970</td>\n",
              "      <td>26800</td>\n",
              "      <td>1032</td>\n",
              "    </tr>\n",
              "    <tr>\n",
              "      <th>1</th>\n",
              "      <td>1970</td>\n",
              "      <td>37700</td>\n",
              "      <td>36330</td>\n",
              "      <td>59000</td>\n",
              "      <td>1624</td>\n",
              "    </tr>\n",
              "    <tr>\n",
              "      <th>2</th>\n",
              "      <td>1971</td>\n",
              "      <td>79800</td>\n",
              "      <td>68000</td>\n",
              "      <td>78000</td>\n",
              "      <td>1147</td>\n",
              "    </tr>\n",
              "    <tr>\n",
              "      <th>3</th>\n",
              "      <td>1972</td>\n",
              "      <td>169360</td>\n",
              "      <td>156950</td>\n",
              "      <td>271904</td>\n",
              "      <td>1732</td>\n",
              "    </tr>\n",
              "    <tr>\n",
              "      <th>4</th>\n",
              "      <td>1973</td>\n",
              "      <td>376600</td>\n",
              "      <td>344340</td>\n",
              "      <td>495880</td>\n",
              "      <td>1440</td>\n",
              "    </tr>\n",
              "  </tbody>\n",
              "</table>\n",
              "</div>"
            ],
            "text/plain": [
              "   indice_tiempo  superficie_sembrada_soja  ...  produccion_soja  rendimiento_soja\n",
              "0           1969                     30470  ...            26800              1032\n",
              "1           1970                     37700  ...            59000              1624\n",
              "2           1971                     79800  ...            78000              1147\n",
              "3           1972                    169360  ...           271904              1732\n",
              "4           1973                    376600  ...           495880              1440\n",
              "\n",
              "[5 rows x 5 columns]"
            ]
          },
          "metadata": {
            "tags": []
          },
          "execution_count": 4
        }
      ]
    },
    {
      "cell_type": "code",
      "metadata": {
        "id": "CRrSs8Z10XTa",
        "colab_type": "code",
        "outputId": "492c040d-4283-4e4e-e930-64fa8e8e70ca",
        "colab": {
          "base_uri": "https://localhost:8080/",
          "height": 287
        }
      },
      "source": [
        "df.describe()"
      ],
      "execution_count": 5,
      "outputs": [
        {
          "output_type": "execute_result",
          "data": {
            "text/html": [
              "<div>\n",
              "<style scoped>\n",
              "    .dataframe tbody tr th:only-of-type {\n",
              "        vertical-align: middle;\n",
              "    }\n",
              "\n",
              "    .dataframe tbody tr th {\n",
              "        vertical-align: top;\n",
              "    }\n",
              "\n",
              "    .dataframe thead th {\n",
              "        text-align: right;\n",
              "    }\n",
              "</style>\n",
              "<table border=\"1\" class=\"dataframe\">\n",
              "  <thead>\n",
              "    <tr style=\"text-align: right;\">\n",
              "      <th></th>\n",
              "      <th>indice_tiempo</th>\n",
              "      <th>superficie_sembrada_soja</th>\n",
              "      <th>superficie_cosechada_soja</th>\n",
              "      <th>produccion_soja</th>\n",
              "      <th>rendimiento_soja</th>\n",
              "    </tr>\n",
              "  </thead>\n",
              "  <tbody>\n",
              "    <tr>\n",
              "      <th>count</th>\n",
              "      <td>49.00000</td>\n",
              "      <td>4.900000e+01</td>\n",
              "      <td>4.900000e+01</td>\n",
              "      <td>4.900000e+01</td>\n",
              "      <td>49.000000</td>\n",
              "    </tr>\n",
              "    <tr>\n",
              "      <th>mean</th>\n",
              "      <td>1993.00000</td>\n",
              "      <td>8.308077e+06</td>\n",
              "      <td>8.063086e+06</td>\n",
              "      <td>2.051077e+07</td>\n",
              "      <td>2171.591837</td>\n",
              "    </tr>\n",
              "    <tr>\n",
              "      <th>std</th>\n",
              "      <td>14.28869</td>\n",
              "      <td>7.066484e+06</td>\n",
              "      <td>6.855572e+06</td>\n",
              "      <td>1.947992e+07</td>\n",
              "      <td>573.351765</td>\n",
              "    </tr>\n",
              "    <tr>\n",
              "      <th>min</th>\n",
              "      <td>1969.00000</td>\n",
              "      <td>3.047000e+04</td>\n",
              "      <td>2.597000e+04</td>\n",
              "      <td>2.680000e+04</td>\n",
              "      <td>263.000000</td>\n",
              "    </tr>\n",
              "    <tr>\n",
              "      <th>25%</th>\n",
              "      <td>1981.00000</td>\n",
              "      <td>2.100000e+06</td>\n",
              "      <td>2.030000e+06</td>\n",
              "      <td>4.000000e+06</td>\n",
              "      <td>1848.000000</td>\n",
              "    </tr>\n",
              "    <tr>\n",
              "      <th>50%</th>\n",
              "      <td>1993.00000</td>\n",
              "      <td>5.817490e+06</td>\n",
              "      <td>5.748910e+06</td>\n",
              "      <td>1.130810e+07</td>\n",
              "      <td>2174.000000</td>\n",
              "    </tr>\n",
              "    <tr>\n",
              "      <th>75%</th>\n",
              "      <td>2005.00000</td>\n",
              "      <td>1.539347e+07</td>\n",
              "      <td>1.513004e+07</td>\n",
              "      <td>3.778793e+07</td>\n",
              "      <td>2569.000000</td>\n",
              "    </tr>\n",
              "    <tr>\n",
              "      <th>max</th>\n",
              "      <td>2017.00000</td>\n",
              "      <td>2.047909e+07</td>\n",
              "      <td>1.950773e+07</td>\n",
              "      <td>6.139828e+07</td>\n",
              "      <td>3176.000000</td>\n",
              "    </tr>\n",
              "  </tbody>\n",
              "</table>\n",
              "</div>"
            ],
            "text/plain": [
              "       indice_tiempo  ...  rendimiento_soja\n",
              "count       49.00000  ...         49.000000\n",
              "mean      1993.00000  ...       2171.591837\n",
              "std         14.28869  ...        573.351765\n",
              "min       1969.00000  ...        263.000000\n",
              "25%       1981.00000  ...       1848.000000\n",
              "50%       1993.00000  ...       2174.000000\n",
              "75%       2005.00000  ...       2569.000000\n",
              "max       2017.00000  ...       3176.000000\n",
              "\n",
              "[8 rows x 5 columns]"
            ]
          },
          "metadata": {
            "tags": []
          },
          "execution_count": 5
        }
      ]
    },
    {
      "cell_type": "code",
      "metadata": {
        "id": "RGAXsQhn0pAI",
        "colab_type": "code",
        "outputId": "432b3874-2b02-4b03-c267-4a8ab8880a74",
        "colab": {
          "base_uri": "https://localhost:8080/",
          "height": 477
        }
      },
      "source": [
        "plt.figure(figsize=(12,7))\n",
        "\n",
        "plt.plot(df['indice_tiempo'],df.drop(columns=['rendimiento_soja','indice_tiempo']))\n",
        "plt.yticks([])\n",
        "plt.title('Comportamiento del cultivo de Soja')\n",
        "plt.legend(df.drop(columns=['rendimiento_soja','indice_tiempo']).columns);"
      ],
      "execution_count": 6,
      "outputs": [
        {
          "output_type": "display_data",
          "data": {
            "image/png": "[encoded data removed]",
            "text/plain": [
              "<Figure size 864x504 with 1 Axes>"
            ]
          },
          "metadata": {
            "tags": []
          }
        }
      ]
    },
    {
      "cell_type": "code",
      "metadata": {
        "id": "nKBgbNu9EsFz",
        "colab_type": "code",
        "colab": {
          "base_uri": "https://localhost:8080/",
          "height": 282
        },
        "outputId": "120e1035-5d62-4c99-9b71-262636be90dc"
      },
      "source": [
        "#Les dejo este gráfico para que jueguen con el y lo personalicen a su gusto:\n",
        "plt.plot(df['indice_tiempo'],df['rendimiento_soja']);"
      ],
      "execution_count": 7,
      "outputs": [
        {
          "output_type": "display_data",
          "data": {
            "image/png": "[encoded data removed]",
            "text/plain": [
              "<Figure size 432x288 with 1 Axes>"
            ]
          },
          "metadata": {
            "tags": []
          }
        }
      ]
    },
    {
      "cell_type": "code",
      "metadata": {
        "id": "JDw2uR3V0uKw",
        "colab_type": "code",
        "colab": {}
      },
      "source": [
        "import plotly.express as px"
      ],
      "execution_count": 0,
      "outputs": []
    },
    {
      "cell_type": "code",
      "metadata": {
        "id": "Kev37GDiC5Be",
        "colab_type": "code",
        "outputId": "3bf63d3c-ed26-4c07-85d4-2026d8989bbd",
        "colab": {
          "base_uri": "https://localhost:8080/",
          "height": 687
        }
      },
      "source": [
        "px.scatter(df, \n",
        "           x='indice_tiempo', \n",
        "           y='produccion_soja', \n",
        "           trendline='ols', \n",
        "           template='seaborn',\n",
        "           trendline_color_override='red',\n",
        "           title='Producción Anual de Soja',\n",
        "           hover_name='indice_tiempo')"
      ],
      "execution_count": 9,
      "outputs": [
        {
          "output_type": "stream",
          "text": [
            "/usr/local/lib/python3.6/dist-packages/numpy/core/fromnumeric.py:2495: FutureWarning:\n",
            "\n",
            "Method .ptp is deprecated and will be removed in a future version. Use numpy.ptp instead.\n",
            "\n"
          ],
          "name": "stderr"
        },
        {
          "output_type": "display_data",
          "data": {
            "text/html": [
              "<html>\n",
              "<head><meta charset=\"utf-8\" /></head>\n",
              "<body>\n",
              "    <div>\n",
              "            <script src=\"https://cdnjs.cloudflare.com/ajax/libs/mathjax/2.7.5/MathJax.js?config=TeX-AMS-MML_SVG\"></script><script type=\"text/javascript\">if (window.MathJax) {MathJax.Hub.Config({SVG: {font: \"STIX-Web\"}});}</script>\n",
              "                <script type=\"text/javascript\">window.PlotlyConfig = {MathJaxConfig: 'local'};</script>\n",
              "        <script src=\"https://cdn.plot.ly/plotly-latest.min.js\"></script>    \n",
              "            <div id=\"b5bbbfd0-35cd-4750-b66a-8b30ee1ce0af\" class=\"plotly-graph-div\" style=\"height:600px; width:100%;\"></div>\n",
              "            <script type=\"text/javascript\">\n",
              "                \n",
              "                    window.PLOTLYENV=window.PLOTLYENV || {};\n",
              "                    \n",
              "                if (document.getElementById(\"b5bbbfd0-35cd-4750-b66a-8b30ee1ce0af\")) {\n",
              "                    Plotly.newPlot(\n",
              "                        'b5bbbfd0-35cd-4750-b66a-8b30ee1ce0af',\n",
              "                        [{\"hoverlabel\": {\"namelength\": 0}, \"hovertemplate\": \"<b>%{hovertext}</b><br><br>indice_tiempo=%{x}<br>produccion_soja=%{y}\", \"hovertext\": [1969.0, 1970.0, 1971.0, 1972.0, 1973.0, 1974.0, 1975.0, 1976.0, 1977.0, 1978.0, 1979.0, 1980.0, 1981.0, 1982.0, 1983.0, 1984.0, 1985.0, 1986.0, 1987.0, 1988.0, 1989.0, 1990.0, 1991.0, 1992.0, 1993.0, 1994.0, 1995.0, 1996.0, 1997.0, 1998.0, 1999.0, 2000.0, 2001.0, 2002.0, 2003.0, 2004.0, 2005.0, 2006.0, 2007.0, 2008.0, 2009.0, 2010.0, 2011.0, 2012.0, 2013.0, 2014.0, 2015.0, 2016.0, 2017.0], \"legendgroup\": \"\", \"marker\": {\"color\": \"rgb(76,114,176)\", \"symbol\": \"circle\"}, \"mode\": \"markers\", \"name\": \"\", \"showlegend\": false, \"type\": \"scatter\", \"x\": [1969, 1970, 1971, 1972, 1973, 1974, 1975, 1976, 1977, 1978, 1979, 1980, 1981, 1982, 1983, 1984, 1985, 1986, 1987, 1988, 1989, 1990, 1991, 1992, 1993, 1994, 1995, 1996, 1997, 1998, 1999, 2000, 2001, 2002, 2003, 2004, 2005, 2006, 2007, 2008, 2009, 2010, 2011, 2012, 2013, 2014, 2015, 2016, 2017], \"xaxis\": \"x\", \"y\": [26800, 59000, 78000, 271904, 495880, 485000, 695000, 1400000, 2500000, 3700000, 3500000, 3770000, 4150000, 4000000, 7000000, 6500000, 7100000, 6666400, 9900000, 6500000, 10700000, 10861200, 11308100, 11043400, 11719900, 12133000, 12448200, 11004890, 18732172, 20000000, 20135800, 27266253, 29991616, 34818550, 31576752, 38303289, 40537368, 47482787, 46238890, 30989474, 54247538, 48880986, 40100197, 49353642, 53397720, 61398276, 58799258, 54972546, 37787927], \"yaxis\": \"y\"}, {\"hoverlabel\": {\"namelength\": 0}, \"hovertemplate\": \"<b>OLS trendline</b><br>produccion_soja = 1271277.564388 * indice_tiempo + -2513145416.130918<br>R<sup>2</sup>=0.869543<br><br>indice_tiempo=%{x}<br>produccion_soja=%{y} <b>(trend)</b>\", \"legendgroup\": \"\", \"line\": {\"color\": \"red\"}, \"marker\": {\"color\": \"rgb(76,114,176)\", \"symbol\": \"circle\"}, \"mode\": \"lines\", \"name\": \"\", \"showlegend\": false, \"type\": \"scatter\", \"x\": [1969, 1970, 1971, 1972, 1973, 1974, 1975, 1976, 1977, 1978, 1979, 1980, 1981, 1982, 1983, 1984, 1985, 1986, 1987, 1988, 1989, 1990, 1991, 1992, 1993, 1994, 1995, 1996, 1997, 1998, 1999, 2000, 2001, 2002, 2003, 2004, 2005, 2006, 2007, 2008, 2009, 2010, 2011, 2012, 2013, 2014, 2015, 2016, 2017], \"xaxis\": \"x\", \"y\": [-9999891.851428509, -8728614.28704071, -7457336.722652912, -6186059.158265114, -4914781.5938773155, -3643504.029489517, -2372226.465101719, -1100948.9007139206, 170328.66367340088, 1441606.2280611992, 2712883.7924489975, 3984161.356836796, 5255438.921224594, 6526716.485612392, 7797994.050000191, 9069271.614387989, 10340549.178775787, 11611826.743163586, 12883104.307551384, 14154381.871938705, 15425659.436326504, 16696937.000714302, 17968214.5651021, 19239492.1294899, 20510769.693877697, 21782047.258265495, 23053324.822653294, 24324602.387041092, 25595879.95142889, 26867157.51581669, 28138435.08020401, 29409712.64459181, 30680990.208979607, 31952267.773367405, 33223545.337755203, 34494822.902143, 35766100.4665308, 37037378.0309186, 38308655.5953064, 39579933.159694195, 40851210.72408199, 42122488.288469315, 43393765.85285711, 44665043.41724491, 45936320.98163271, 47207598.54602051, 48478876.110408306, 49750153.674796104, 51021431.2391839], \"yaxis\": \"y\"}],\n",
              "                        {\"height\": 600, \"legend\": {\"tracegroupgap\": 0}, \"template\": {\"data\": {\"bar\": [{\"error_x\": {\"color\": \"rgb(36,36,36)\"}, \"error_y\": {\"color\": \"rgb(36,36,36)\"}, \"marker\": {\"line\": {\"color\": \"rgb(234,234,242)\", \"width\": 0.5}}, \"type\": \"bar\"}], \"barpolar\": [{\"marker\": {\"line\": {\"color\": \"rgb(234,234,242)\", \"width\": 0.5}}, \"type\": \"barpolar\"}], \"carpet\": [{\"aaxis\": {\"endlinecolor\": \"rgb(36,36,36)\", \"gridcolor\": \"white\", \"linecolor\": \"white\", \"minorgridcolor\": \"white\", \"startlinecolor\": \"rgb(36,36,36)\"}, \"baxis\": {\"endlinecolor\": \"rgb(36,36,36)\", \"gridcolor\": \"white\", \"linecolor\": \"white\", \"minorgridcolor\": \"white\", \"startlinecolor\": \"rgb(36,36,36)\"}, \"type\": \"carpet\"}], \"choropleth\": [{\"colorbar\": {\"outlinewidth\": 0, \"tickcolor\": \"rgb(36,36,36)\", \"ticklen\": 8, \"ticks\": \"outside\", \"tickwidth\": 2}, \"type\": \"choropleth\"}], \"contour\": [{\"colorbar\": {\"outlinewidth\": 0, \"tickcolor\": \"rgb(36,36,36)\", \"ticklen\": 8, \"ticks\": \"outside\", \"tickwidth\": 2}, \"colorscale\": [[0.0, \"rgb(2,4,25)\"], [0.06274509803921569, \"rgb(24,15,41)\"], [0.12549019607843137, \"rgb(47,23,57)\"], [0.18823529411764706, \"rgb(71,28,72)\"], [0.25098039215686274, \"rgb(97,30,82)\"], [0.3137254901960784, \"rgb(123,30,89)\"], [0.3764705882352941, \"rgb(150,27,91)\"], [0.4392156862745098, \"rgb(177,22,88)\"], [0.5019607843137255, \"rgb(203,26,79)\"], [0.5647058823529412, \"rgb(223,47,67)\"], [0.6274509803921569, \"rgb(236,76,61)\"], [0.6901960784313725, \"rgb(242,107,73)\"], [0.7529411764705882, \"rgb(244,135,95)\"], [0.8156862745098039, \"rgb(245,162,122)\"], [0.8784313725490196, \"rgb(246,188,153)\"], [0.9411764705882353, \"rgb(247,212,187)\"], [1.0, \"rgb(250,234,220)\"]], \"type\": \"contour\"}], \"contourcarpet\": [{\"colorbar\": {\"outlinewidth\": 0, \"tickcolor\": \"rgb(36,36,36)\", \"ticklen\": 8, \"ticks\": \"outside\", \"tickwidth\": 2}, \"type\": \"contourcarpet\"}], \"heatmap\": [{\"colorbar\": {\"outlinewidth\": 0, \"tickcolor\": \"rgb(36,36,36)\", \"ticklen\": 8, \"ticks\": \"outside\", \"tickwidth\": 2}, \"colorscale\": [[0.0, \"rgb(2,4,25)\"], [0.06274509803921569, \"rgb(24,15,41)\"], [0.12549019607843137, \"rgb(47,23,57)\"], [0.18823529411764706, \"rgb(71,28,72)\"], [0.25098039215686274, \"rgb(97,30,82)\"], [0.3137254901960784, \"rgb(123,30,89)\"], [0.3764705882352941, \"rgb(150,27,91)\"], [0.4392156862745098, \"rgb(177,22,88)\"], [0.5019607843137255, \"rgb(203,26,79)\"], [0.5647058823529412, \"rgb(223,47,67)\"], [0.6274509803921569, \"rgb(236,76,61)\"], [0.6901960784313725, \"rgb(242,107,73)\"], [0.7529411764705882, \"rgb(244,135,95)\"], [0.8156862745098039, \"rgb(245,162,122)\"], [0.8784313725490196, \"rgb(246,188,153)\"], [0.9411764705882353, \"rgb(247,212,187)\"], [1.0, \"rgb(250,234,220)\"]], \"type\": \"heatmap\"}], \"heatmapgl\": [{\"colorbar\": {\"outlinewidth\": 0, \"tickcolor\": \"rgb(36,36,36)\", \"ticklen\": 8, \"ticks\": \"outside\", \"tickwidth\": 2}, \"colorscale\": [[0.0, \"rgb(2,4,25)\"], [0.06274509803921569, \"rgb(24,15,41)\"], [0.12549019607843137, \"rgb(47,23,57)\"], [0.18823529411764706, \"rgb(71,28,72)\"], [0.25098039215686274, \"rgb(97,30,82)\"], [0.3137254901960784, \"rgb(123,30,89)\"], [0.3764705882352941, \"rgb(150,27,91)\"], [0.4392156862745098, \"rgb(177,22,88)\"], [0.5019607843137255, \"rgb(203,26,79)\"], [0.5647058823529412, \"rgb(223,47,67)\"], [0.6274509803921569, \"rgb(236,76,61)\"], [0.6901960784313725, \"rgb(242,107,73)\"], [0.7529411764705882, \"rgb(244,135,95)\"], [0.8156862745098039, \"rgb(245,162,122)\"], [0.8784313725490196, \"rgb(246,188,153)\"], [0.9411764705882353, \"rgb(247,212,187)\"], [1.0, \"rgb(250,234,220)\"]], \"type\": \"heatmapgl\"}], \"histogram\": [{\"marker\": {\"colorbar\": {\"outlinewidth\": 0, \"tickcolor\": \"rgb(36,36,36)\", \"ticklen\": 8, \"ticks\": \"outside\", \"tickwidth\": 2}}, \"type\": \"histogram\"}], \"histogram2d\": [{\"colorbar\": {\"outlinewidth\": 0, \"tickcolor\": \"rgb(36,36,36)\", \"ticklen\": 8, \"ticks\": \"outside\", \"tickwidth\": 2}, \"colorscale\": [[0.0, \"rgb(2,4,25)\"], [0.06274509803921569, \"rgb(24,15,41)\"], [0.12549019607843137, \"rgb(47,23,57)\"], [0.18823529411764706, \"rgb(71,28,72)\"], [0.25098039215686274, \"rgb(97,30,82)\"], [0.3137254901960784, \"rgb(123,30,89)\"], [0.3764705882352941, \"rgb(150,27,91)\"], [0.4392156862745098, \"rgb(177,22,88)\"], [0.5019607843137255, \"rgb(203,26,79)\"], [0.5647058823529412, \"rgb(223,47,67)\"], [0.6274509803921569, \"rgb(236,76,61)\"], [0.6901960784313725, \"rgb(242,107,73)\"], [0.7529411764705882, \"rgb(244,135,95)\"], [0.8156862745098039, \"rgb(245,162,122)\"], [0.8784313725490196, \"rgb(246,188,153)\"], [0.9411764705882353, \"rgb(247,212,187)\"], [1.0, \"rgb(250,234,220)\"]], \"type\": \"histogram2d\"}], \"histogram2dcontour\": [{\"colorbar\": {\"outlinewidth\": 0, \"tickcolor\": \"rgb(36,36,36)\", \"ticklen\": 8, \"ticks\": \"outside\", \"tickwidth\": 2}, \"colorscale\": [[0.0, \"rgb(2,4,25)\"], [0.06274509803921569, \"rgb(24,15,41)\"], [0.12549019607843137, \"rgb(47,23,57)\"], [0.18823529411764706, \"rgb(71,28,72)\"], [0.25098039215686274, \"rgb(97,30,82)\"], [0.3137254901960784, \"rgb(123,30,89)\"], [0.3764705882352941, \"rgb(150,27,91)\"], [0.4392156862745098, \"rgb(177,22,88)\"], [0.5019607843137255, \"rgb(203,26,79)\"], [0.5647058823529412, \"rgb(223,47,67)\"], [0.6274509803921569, \"rgb(236,76,61)\"], [0.6901960784313725, \"rgb(242,107,73)\"], [0.7529411764705882, \"rgb(244,135,95)\"], [0.8156862745098039, \"rgb(245,162,122)\"], [0.8784313725490196, \"rgb(246,188,153)\"], [0.9411764705882353, \"rgb(247,212,187)\"], [1.0, \"rgb(250,234,220)\"]], \"type\": \"histogram2dcontour\"}], \"mesh3d\": [{\"colorbar\": {\"outlinewidth\": 0, \"tickcolor\": \"rgb(36,36,36)\", \"ticklen\": 8, \"ticks\": \"outside\", \"tickwidth\": 2}, \"type\": \"mesh3d\"}], \"parcoords\": [{\"line\": {\"colorbar\": {\"outlinewidth\": 0, \"tickcolor\": \"rgb(36,36,36)\", \"ticklen\": 8, \"ticks\": \"outside\", \"tickwidth\": 2}}, \"type\": \"parcoords\"}], \"scatter\": [{\"marker\": {\"colorbar\": {\"outlinewidth\": 0, \"tickcolor\": \"rgb(36,36,36)\", \"ticklen\": 8, \"ticks\": \"outside\", \"tickwidth\": 2}}, \"type\": \"scatter\"}], \"scatter3d\": [{\"line\": {\"colorbar\": {\"outlinewidth\": 0, \"tickcolor\": \"rgb(36,36,36)\", \"ticklen\": 8, \"ticks\": \"outside\", \"tickwidth\": 2}}, \"marker\": {\"colorbar\": {\"outlinewidth\": 0, \"tickcolor\": \"rgb(36,36,36)\", \"ticklen\": 8, \"ticks\": \"outside\", \"tickwidth\": 2}}, \"type\": \"scatter3d\"}], \"scattercarpet\": [{\"marker\": {\"colorbar\": {\"outlinewidth\": 0, \"tickcolor\": \"rgb(36,36,36)\", \"ticklen\": 8, \"ticks\": \"outside\", \"tickwidth\": 2}}, \"type\": \"scattercarpet\"}], \"scattergeo\": [{\"marker\": {\"colorbar\": {\"outlinewidth\": 0, \"tickcolor\": \"rgb(36,36,36)\", \"ticklen\": 8, \"ticks\": \"outside\", \"tickwidth\": 2}}, \"type\": \"scattergeo\"}], \"scattergl\": [{\"marker\": {\"colorbar\": {\"outlinewidth\": 0, \"tickcolor\": \"rgb(36,36,36)\", \"ticklen\": 8, \"ticks\": \"outside\", \"tickwidth\": 2}}, \"type\": \"scattergl\"}], \"scattermapbox\": [{\"marker\": {\"colorbar\": {\"outlinewidth\": 0, \"tickcolor\": \"rgb(36,36,36)\", \"ticklen\": 8, \"ticks\": \"outside\", \"tickwidth\": 2}}, \"type\": \"scattermapbox\"}], \"scatterpolar\": [{\"marker\": {\"colorbar\": {\"outlinewidth\": 0, \"tickcolor\": \"rgb(36,36,36)\", \"ticklen\": 8, \"ticks\": \"outside\", \"tickwidth\": 2}}, \"type\": \"scatterpolar\"}], \"scatterpolargl\": [{\"marker\": {\"colorbar\": {\"outlinewidth\": 0, \"tickcolor\": \"rgb(36,36,36)\", \"ticklen\": 8, \"ticks\": \"outside\", \"tickwidth\": 2}}, \"type\": \"scatterpolargl\"}], \"scatterternary\": [{\"marker\": {\"colorbar\": {\"outlinewidth\": 0, \"tickcolor\": \"rgb(36,36,36)\", \"ticklen\": 8, \"ticks\": \"outside\", \"tickwidth\": 2}}, \"type\": \"scatterternary\"}], \"surface\": [{\"colorbar\": {\"outlinewidth\": 0, \"tickcolor\": \"rgb(36,36,36)\", \"ticklen\": 8, \"ticks\": \"outside\", \"tickwidth\": 2}, \"colorscale\": [[0.0, \"rgb(2,4,25)\"], [0.06274509803921569, \"rgb(24,15,41)\"], [0.12549019607843137, \"rgb(47,23,57)\"], [0.18823529411764706, \"rgb(71,28,72)\"], [0.25098039215686274, \"rgb(97,30,82)\"], [0.3137254901960784, \"rgb(123,30,89)\"], [0.3764705882352941, \"rgb(150,27,91)\"], [0.4392156862745098, \"rgb(177,22,88)\"], [0.5019607843137255, \"rgb(203,26,79)\"], [0.5647058823529412, \"rgb(223,47,67)\"], [0.6274509803921569, \"rgb(236,76,61)\"], [0.6901960784313725, \"rgb(242,107,73)\"], [0.7529411764705882, \"rgb(244,135,95)\"], [0.8156862745098039, \"rgb(245,162,122)\"], [0.8784313725490196, \"rgb(246,188,153)\"], [0.9411764705882353, \"rgb(247,212,187)\"], [1.0, \"rgb(250,234,220)\"]], \"type\": \"surface\"}], \"table\": [{\"cells\": {\"fill\": {\"color\": \"rgb(231,231,240)\"}, \"line\": {\"color\": \"white\"}}, \"header\": {\"fill\": {\"color\": \"rgb(183,183,191)\"}, \"line\": {\"color\": \"white\"}}, \"type\": \"table\"}]}, \"layout\": {\"annotationdefaults\": {\"arrowcolor\": \"rgb(67,103,167)\"}, \"colorscale\": {\"sequential\": [[0.0, \"rgb(2,4,25)\"], [0.06274509803921569, \"rgb(24,15,41)\"], [0.12549019607843137, \"rgb(47,23,57)\"], [0.18823529411764706, \"rgb(71,28,72)\"], [0.25098039215686274, \"rgb(97,30,82)\"], [0.3137254901960784, \"rgb(123,30,89)\"], [0.3764705882352941, \"rgb(150,27,91)\"], [0.4392156862745098, \"rgb(177,22,88)\"], [0.5019607843137255, \"rgb(203,26,79)\"], [0.5647058823529412, \"rgb(223,47,67)\"], [0.6274509803921569, \"rgb(236,76,61)\"], [0.6901960784313725, \"rgb(242,107,73)\"], [0.7529411764705882, \"rgb(244,135,95)\"], [0.8156862745098039, \"rgb(245,162,122)\"], [0.8784313725490196, \"rgb(246,188,153)\"], [0.9411764705882353, \"rgb(247,212,187)\"], [1.0, \"rgb(250,234,220)\"]], \"sequentialminus\": [[0.0, \"rgb(2,4,25)\"], [0.06274509803921569, \"rgb(24,15,41)\"], [0.12549019607843137, \"rgb(47,23,57)\"], [0.18823529411764706, \"rgb(71,28,72)\"], [0.25098039215686274, \"rgb(97,30,82)\"], [0.3137254901960784, \"rgb(123,30,89)\"], [0.3764705882352941, \"rgb(150,27,91)\"], [0.4392156862745098, \"rgb(177,22,88)\"], [0.5019607843137255, \"rgb(203,26,79)\"], [0.5647058823529412, \"rgb(223,47,67)\"], [0.6274509803921569, \"rgb(236,76,61)\"], [0.6901960784313725, \"rgb(242,107,73)\"], [0.7529411764705882, \"rgb(244,135,95)\"], [0.8156862745098039, \"rgb(245,162,122)\"], [0.8784313725490196, \"rgb(246,188,153)\"], [0.9411764705882353, \"rgb(247,212,187)\"], [1.0, \"rgb(250,234,220)\"]]}, \"colorway\": [\"rgb(76,114,176)\", \"rgb(221,132,82)\", \"rgb(85,168,104)\", \"rgb(196,78,82)\", \"rgb(129,114,179)\", \"rgb(147,120,96)\", \"rgb(218,139,195)\", \"rgb(140,140,140)\", \"rgb(204,185,116)\", \"rgb(100,181,205)\"], \"font\": {\"color\": \"rgb(36,36,36)\"}, \"geo\": {\"bgcolor\": \"white\", \"lakecolor\": \"white\", \"landcolor\": \"rgb(234,234,242)\", \"showlakes\": true, \"showland\": true, \"subunitcolor\": \"white\"}, \"hoverlabel\": {\"align\": \"left\"}, \"hovermode\": \"closest\", \"paper_bgcolor\": \"white\", \"plot_bgcolor\": \"rgb(234,234,242)\", \"polar\": {\"angularaxis\": {\"gridcolor\": \"white\", \"linecolor\": \"white\", \"showgrid\": true, \"ticks\": \"\"}, \"bgcolor\": \"rgb(234,234,242)\", \"radialaxis\": {\"gridcolor\": \"white\", \"linecolor\": \"white\", \"showgrid\": true, \"ticks\": \"\"}}, \"scene\": {\"xaxis\": {\"backgroundcolor\": \"rgb(234,234,242)\", \"gridcolor\": \"white\", \"gridwidth\": 2, \"linecolor\": \"white\", \"showbackground\": true, \"showgrid\": true, \"ticks\": \"\", \"zerolinecolor\": \"white\"}, \"yaxis\": {\"backgroundcolor\": \"rgb(234,234,242)\", \"gridcolor\": \"white\", \"gridwidth\": 2, \"linecolor\": \"white\", \"showbackground\": true, \"showgrid\": true, \"ticks\": \"\", \"zerolinecolor\": \"white\"}, \"zaxis\": {\"backgroundcolor\": \"rgb(234,234,242)\", \"gridcolor\": \"white\", \"gridwidth\": 2, \"linecolor\": \"white\", \"showbackground\": true, \"showgrid\": true, \"ticks\": \"\", \"zerolinecolor\": \"white\"}}, \"shapedefaults\": {\"fillcolor\": \"rgb(67,103,167)\", \"line\": {\"width\": 0}, \"opacity\": 0.5}, \"ternary\": {\"aaxis\": {\"gridcolor\": \"white\", \"linecolor\": \"white\", \"showgrid\": true, \"ticks\": \"\"}, \"baxis\": {\"gridcolor\": \"white\", \"linecolor\": \"white\", \"showgrid\": true, \"ticks\": \"\"}, \"bgcolor\": \"rgb(234,234,242)\", \"caxis\": {\"gridcolor\": \"white\", \"linecolor\": \"white\", \"showgrid\": true, \"ticks\": \"\"}}, \"xaxis\": {\"automargin\": true, \"gridcolor\": \"white\", \"linecolor\": \"white\", \"showgrid\": true, \"ticks\": \"\", \"zerolinecolor\": \"white\"}, \"yaxis\": {\"automargin\": true, \"gridcolor\": \"white\", \"linecolor\": \"white\", \"showgrid\": true, \"ticks\": \"\", \"zerolinecolor\": \"white\"}}}, \"title\": {\"text\": \"Producci\\u00f3n Anual de Soja\"}, \"xaxis\": {\"anchor\": \"y\", \"domain\": [0.0, 0.98], \"title\": {\"text\": \"indice_tiempo\"}}, \"yaxis\": {\"anchor\": \"x\", \"domain\": [0.0, 1.0], \"title\": {\"text\": \"produccion_soja\"}}},\n",
              "                        {\"responsive\": true}\n",
              "                    ).then(function(){\n",
              "                            \n",
              "var gd = document.getElementById('b5bbbfd0-35cd-4750-b66a-8b30ee1ce0af');\n",
              "var x = new MutationObserver(function (mutations, observer) {{\n",
              "        var display = window.getComputedStyle(gd).display;\n",
              "        if (!display || display === 'none') {{\n",
              "            console.log([gd, 'removed!']);\n",
              "            Plotly.purge(gd);\n",
              "            observer.disconnect();\n",
              "        }}\n",
              "}});\n",
              "\n",
              "// Listen for the removal of the full notebook cells\n",
              "var notebookContainer = gd.closest('#notebook-container');\n",
              "if (notebookContainer) {{\n",
              "    x.observe(notebookContainer, {childList: true});\n",
              "}}\n",
              "\n",
              "// Listen for the clearing of the current output cell\n",
              "var outputEl = gd.closest('.output');\n",
              "if (outputEl) {{\n",
              "    x.observe(outputEl, {childList: true});\n",
              "}}\n",
              "\n",
              "                        })\n",
              "                };\n",
              "                \n",
              "            </script>\n",
              "        </div>\n",
              "</body>\n",
              "</html>"
            ]
          },
          "metadata": {
            "tags": []
          }
        }
      ]
    },
    {
      "cell_type": "code",
      "metadata": {
        "id": "YmH14wzm1ZE-",
        "colab_type": "code",
        "colab": {
          "base_uri": "https://localhost:8080/",
          "height": 687
        },
        "outputId": "403f22b8-6b92-4f7f-9e1f-e57d2a7bc473"
      },
      "source": [
        "px.scatter(df, \n",
        "           x='indice_tiempo', \n",
        "           y='produccion_soja', \n",
        "           trendline='ols', \n",
        "           template='seaborn',\n",
        "           trendline_color_override='red',\n",
        "           title='Producción Anual de Soja',\n",
        "           hover_name='indice_tiempo',\n",
        "           size='rendimiento_soja')"
      ],
      "execution_count": 10,
      "outputs": [
        {
          "output_type": "stream",
          "text": [
            "/usr/local/lib/python3.6/dist-packages/numpy/core/fromnumeric.py:2495: FutureWarning:\n",
            "\n",
            "Method .ptp is deprecated and will be removed in a future version. Use numpy.ptp instead.\n",
            "\n"
          ],
          "name": "stderr"
        },
        {
          "output_type": "display_data",
          "data": {
            "text/html": [
              "<html>\n",
              "<head><meta charset=\"utf-8\" /></head>\n",
              "<body>\n",
              "    <div>\n",
              "            <script src=\"https://cdnjs.cloudflare.com/ajax/libs/mathjax/2.7.5/MathJax.js?config=TeX-AMS-MML_SVG\"></script><script type=\"text/javascript\">if (window.MathJax) {MathJax.Hub.Config({SVG: {font: \"STIX-Web\"}});}</script>\n",
              "                <script type=\"text/javascript\">window.PlotlyConfig = {MathJaxConfig: 'local'};</script>\n",
              "        <script src=\"https://cdn.plot.ly/plotly-latest.min.js\"></script>    \n",
              "            <div id=\"5ac92909-a9cb-4c5f-bb6b-b073e96a4f9e\" class=\"plotly-graph-div\" style=\"height:600px; width:100%;\"></div>\n",
              "            <script type=\"text/javascript\">\n",
              "                \n",
              "                    window.PLOTLYENV=window.PLOTLYENV || {};\n",
              "                    \n",
              "                if (document.getElementById(\"5ac92909-a9cb-4c5f-bb6b-b073e96a4f9e\")) {\n",
              "                    Plotly.newPlot(\n",
              "                        '5ac92909-a9cb-4c5f-bb6b-b073e96a4f9e',\n",
              "                        [{\"hoverlabel\": {\"namelength\": 0}, \"hovertemplate\": \"<b>%{hovertext}</b><br><br>indice_tiempo=%{x}<br>produccion_soja=%{y}<br>rendimiento_soja=%{marker.size}\", \"hovertext\": [1969.0, 1970.0, 1971.0, 1972.0, 1973.0, 1974.0, 1975.0, 1976.0, 1977.0, 1978.0, 1979.0, 1980.0, 1981.0, 1982.0, 1983.0, 1984.0, 1985.0, 1986.0, 1987.0, 1988.0, 1989.0, 1990.0, 1991.0, 1992.0, 1993.0, 1994.0, 1995.0, 1996.0, 1997.0, 1998.0, 1999.0, 2000.0, 2001.0, 2002.0, 2003.0, 2004.0, 2005.0, 2006.0, 2007.0, 2008.0, 2009.0, 2010.0, 2011.0, 2012.0, 2013.0, 2014.0, 2015.0, 2016.0, 2017.0], \"legendgroup\": \"\", \"marker\": {\"color\": \"rgb(76,114,176)\", \"size\": [1032, 1624, 1147, 1732, 1440, 1363, 1603, 2121, 2174, 2313, 1724, 2005, 2090, 1754, 2406, 1988, 2141, 1896, 2264, 1653, 2157, 2275, 2292, 2159, 2039, 2045, 2105, 1721, 2694, 2445, 2331, 2569, 263, 2803, 2207, 2728, 2679, 2971, 2821, 1848, 2905, 2607, 2281, 2542, 2774, 3176, 3014, 3171, 2316], \"sizemode\": \"area\", \"sizeref\": 7.94, \"symbol\": \"circle\"}, \"mode\": \"markers\", \"name\": \"\", \"showlegend\": false, \"type\": \"scatter\", \"x\": [1969, 1970, 1971, 1972, 1973, 1974, 1975, 1976, 1977, 1978, 1979, 1980, 1981, 1982, 1983, 1984, 1985, 1986, 1987, 1988, 1989, 1990, 1991, 1992, 1993, 1994, 1995, 1996, 1997, 1998, 1999, 2000, 2001, 2002, 2003, 2004, 2005, 2006, 2007, 2008, 2009, 2010, 2011, 2012, 2013, 2014, 2015, 2016, 2017], \"xaxis\": \"x\", \"y\": [26800, 59000, 78000, 271904, 495880, 485000, 695000, 1400000, 2500000, 3700000, 3500000, 3770000, 4150000, 4000000, 7000000, 6500000, 7100000, 6666400, 9900000, 6500000, 10700000, 10861200, 11308100, 11043400, 11719900, 12133000, 12448200, 11004890, 18732172, 20000000, 20135800, 27266253, 29991616, 34818550, 31576752, 38303289, 40537368, 47482787, 46238890, 30989474, 54247538, 48880986, 40100197, 49353642, 53397720, 61398276, 58799258, 54972546, 37787927], \"yaxis\": \"y\"}, {\"hoverlabel\": {\"namelength\": 0}, \"hovertemplate\": \"<b>OLS trendline</b><br>produccion_soja = 1271277.564388 * indice_tiempo + -2513145416.130918<br>R<sup>2</sup>=0.869543<br><br>indice_tiempo=%{x}<br>produccion_soja=%{y} <b>(trend)</b>\", \"legendgroup\": \"\", \"line\": {\"color\": \"red\"}, \"marker\": {\"color\": \"rgb(76,114,176)\", \"symbol\": \"circle\"}, \"mode\": \"lines\", \"name\": \"\", \"showlegend\": false, \"type\": \"scatter\", \"x\": [1969, 1970, 1971, 1972, 1973, 1974, 1975, 1976, 1977, 1978, 1979, 1980, 1981, 1982, 1983, 1984, 1985, 1986, 1987, 1988, 1989, 1990, 1991, 1992, 1993, 1994, 1995, 1996, 1997, 1998, 1999, 2000, 2001, 2002, 2003, 2004, 2005, 2006, 2007, 2008, 2009, 2010, 2011, 2012, 2013, 2014, 2015, 2016, 2017], \"xaxis\": \"x\", \"y\": [-9999891.851428509, -8728614.28704071, -7457336.722652912, -6186059.158265114, -4914781.5938773155, -3643504.029489517, -2372226.465101719, -1100948.9007139206, 170328.66367340088, 1441606.2280611992, 2712883.7924489975, 3984161.356836796, 5255438.921224594, 6526716.485612392, 7797994.050000191, 9069271.614387989, 10340549.178775787, 11611826.743163586, 12883104.307551384, 14154381.871938705, 15425659.436326504, 16696937.000714302, 17968214.5651021, 19239492.1294899, 20510769.693877697, 21782047.258265495, 23053324.822653294, 24324602.387041092, 25595879.95142889, 26867157.51581669, 28138435.08020401, 29409712.64459181, 30680990.208979607, 31952267.773367405, 33223545.337755203, 34494822.902143, 35766100.4665308, 37037378.0309186, 38308655.5953064, 39579933.159694195, 40851210.72408199, 42122488.288469315, 43393765.85285711, 44665043.41724491, 45936320.98163271, 47207598.54602051, 48478876.110408306, 49750153.674796104, 51021431.2391839], \"yaxis\": \"y\"}],\n",
              "                        {\"height\": 600, \"legend\": {\"itemsizing\": \"constant\", \"tracegroupgap\": 0}, \"template\": {\"data\": {\"bar\": [{\"error_x\": {\"color\": \"rgb(36,36,36)\"}, \"error_y\": {\"color\": \"rgb(36,36,36)\"}, \"marker\": {\"line\": {\"color\": \"rgb(234,234,242)\", \"width\": 0.5}}, \"type\": \"bar\"}], \"barpolar\": [{\"marker\": {\"line\": {\"color\": \"rgb(234,234,242)\", \"width\": 0.5}}, \"type\": \"barpolar\"}], \"carpet\": [{\"aaxis\": {\"endlinecolor\": \"rgb(36,36,36)\", \"gridcolor\": \"white\", \"linecolor\": \"white\", \"minorgridcolor\": \"white\", \"startlinecolor\": \"rgb(36,36,36)\"}, \"baxis\": {\"endlinecolor\": \"rgb(36,36,36)\", \"gridcolor\": \"white\", \"linecolor\": \"white\", \"minorgridcolor\": \"white\", \"startlinecolor\": \"rgb(36,36,36)\"}, \"type\": \"carpet\"}], \"choropleth\": [{\"colorbar\": {\"outlinewidth\": 0, \"tickcolor\": \"rgb(36,36,36)\", \"ticklen\": 8, \"ticks\": \"outside\", \"tickwidth\": 2}, \"type\": \"choropleth\"}], \"contour\": [{\"colorbar\": {\"outlinewidth\": 0, \"tickcolor\": \"rgb(36,36,36)\", \"ticklen\": 8, \"ticks\": \"outside\", \"tickwidth\": 2}, \"colorscale\": [[0.0, \"rgb(2,4,25)\"], [0.06274509803921569, \"rgb(24,15,41)\"], [0.12549019607843137, \"rgb(47,23,57)\"], [0.18823529411764706, \"rgb(71,28,72)\"], [0.25098039215686274, \"rgb(97,30,82)\"], [0.3137254901960784, \"rgb(123,30,89)\"], [0.3764705882352941, \"rgb(150,27,91)\"], [0.4392156862745098, \"rgb(177,22,88)\"], [0.5019607843137255, \"rgb(203,26,79)\"], [0.5647058823529412, \"rgb(223,47,67)\"], [0.6274509803921569, \"rgb(236,76,61)\"], [0.6901960784313725, \"rgb(242,107,73)\"], [0.7529411764705882, \"rgb(244,135,95)\"], [0.8156862745098039, \"rgb(245,162,122)\"], [0.8784313725490196, \"rgb(246,188,153)\"], [0.9411764705882353, \"rgb(247,212,187)\"], [1.0, \"rgb(250,234,220)\"]], \"type\": \"contour\"}], \"contourcarpet\": [{\"colorbar\": {\"outlinewidth\": 0, \"tickcolor\": \"rgb(36,36,36)\", \"ticklen\": 8, \"ticks\": \"outside\", \"tickwidth\": 2}, \"type\": \"contourcarpet\"}], \"heatmap\": [{\"colorbar\": {\"outlinewidth\": 0, \"tickcolor\": \"rgb(36,36,36)\", \"ticklen\": 8, \"ticks\": \"outside\", \"tickwidth\": 2}, \"colorscale\": [[0.0, \"rgb(2,4,25)\"], [0.06274509803921569, \"rgb(24,15,41)\"], [0.12549019607843137, \"rgb(47,23,57)\"], [0.18823529411764706, \"rgb(71,28,72)\"], [0.25098039215686274, \"rgb(97,30,82)\"], [0.3137254901960784, \"rgb(123,30,89)\"], [0.3764705882352941, \"rgb(150,27,91)\"], [0.4392156862745098, \"rgb(177,22,88)\"], [0.5019607843137255, \"rgb(203,26,79)\"], [0.5647058823529412, \"rgb(223,47,67)\"], [0.6274509803921569, \"rgb(236,76,61)\"], [0.6901960784313725, \"rgb(242,107,73)\"], [0.7529411764705882, \"rgb(244,135,95)\"], [0.8156862745098039, \"rgb(245,162,122)\"], [0.8784313725490196, \"rgb(246,188,153)\"], [0.9411764705882353, \"rgb(247,212,187)\"], [1.0, \"rgb(250,234,220)\"]], \"type\": \"heatmap\"}], \"heatmapgl\": [{\"colorbar\": {\"outlinewidth\": 0, \"tickcolor\": \"rgb(36,36,36)\", \"ticklen\": 8, \"ticks\": \"outside\", \"tickwidth\": 2}, \"colorscale\": [[0.0, \"rgb(2,4,25)\"], [0.06274509803921569, \"rgb(24,15,41)\"], [0.12549019607843137, \"rgb(47,23,57)\"], [0.18823529411764706, \"rgb(71,28,72)\"], [0.25098039215686274, \"rgb(97,30,82)\"], [0.3137254901960784, \"rgb(123,30,89)\"], [0.3764705882352941, \"rgb(150,27,91)\"], [0.4392156862745098, \"rgb(177,22,88)\"], [0.5019607843137255, \"rgb(203,26,79)\"], [0.5647058823529412, \"rgb(223,47,67)\"], [0.6274509803921569, \"rgb(236,76,61)\"], [0.6901960784313725, \"rgb(242,107,73)\"], [0.7529411764705882, \"rgb(244,135,95)\"], [0.8156862745098039, \"rgb(245,162,122)\"], [0.8784313725490196, \"rgb(246,188,153)\"], [0.9411764705882353, \"rgb(247,212,187)\"], [1.0, \"rgb(250,234,220)\"]], \"type\": \"heatmapgl\"}], \"histogram\": [{\"marker\": {\"colorbar\": {\"outlinewidth\": 0, \"tickcolor\": \"rgb(36,36,36)\", \"ticklen\": 8, \"ticks\": \"outside\", \"tickwidth\": 2}}, \"type\": \"histogram\"}], \"histogram2d\": [{\"colorbar\": {\"outlinewidth\": 0, \"tickcolor\": \"rgb(36,36,36)\", \"ticklen\": 8, \"ticks\": \"outside\", \"tickwidth\": 2}, \"colorscale\": [[0.0, \"rgb(2,4,25)\"], [0.06274509803921569, \"rgb(24,15,41)\"], [0.12549019607843137, \"rgb(47,23,57)\"], [0.18823529411764706, \"rgb(71,28,72)\"], [0.25098039215686274, \"rgb(97,30,82)\"], [0.3137254901960784, \"rgb(123,30,89)\"], [0.3764705882352941, \"rgb(150,27,91)\"], [0.4392156862745098, \"rgb(177,22,88)\"], [0.5019607843137255, \"rgb(203,26,79)\"], [0.5647058823529412, \"rgb(223,47,67)\"], [0.6274509803921569, \"rgb(236,76,61)\"], [0.6901960784313725, \"rgb(242,107,73)\"], [0.7529411764705882, \"rgb(244,135,95)\"], [0.8156862745098039, \"rgb(245,162,122)\"], [0.8784313725490196, \"rgb(246,188,153)\"], [0.9411764705882353, \"rgb(247,212,187)\"], [1.0, \"rgb(250,234,220)\"]], \"type\": \"histogram2d\"}], \"histogram2dcontour\": [{\"colorbar\": {\"outlinewidth\": 0, \"tickcolor\": \"rgb(36,36,36)\", \"ticklen\": 8, \"ticks\": \"outside\", \"tickwidth\": 2}, \"colorscale\": [[0.0, \"rgb(2,4,25)\"], [0.06274509803921569, \"rgb(24,15,41)\"], [0.12549019607843137, \"rgb(47,23,57)\"], [0.18823529411764706, \"rgb(71,28,72)\"], [0.25098039215686274, \"rgb(97,30,82)\"], [0.3137254901960784, \"rgb(123,30,89)\"], [0.3764705882352941, \"rgb(150,27,91)\"], [0.4392156862745098, \"rgb(177,22,88)\"], [0.5019607843137255, \"rgb(203,26,79)\"], [0.5647058823529412, \"rgb(223,47,67)\"], [0.6274509803921569, \"rgb(236,76,61)\"], [0.6901960784313725, \"rgb(242,107,73)\"], [0.7529411764705882, \"rgb(244,135,95)\"], [0.8156862745098039, \"rgb(245,162,122)\"], [0.8784313725490196, \"rgb(246,188,153)\"], [0.9411764705882353, \"rgb(247,212,187)\"], [1.0, \"rgb(250,234,220)\"]], \"type\": \"histogram2dcontour\"}], \"mesh3d\": [{\"colorbar\": {\"outlinewidth\": 0, \"tickcolor\": \"rgb(36,36,36)\", \"ticklen\": 8, \"ticks\": \"outside\", \"tickwidth\": 2}, \"type\": \"mesh3d\"}], \"parcoords\": [{\"line\": {\"colorbar\": {\"outlinewidth\": 0, \"tickcolor\": \"rgb(36,36,36)\", \"ticklen\": 8, \"ticks\": \"outside\", \"tickwidth\": 2}}, \"type\": \"parcoords\"}], \"scatter\": [{\"marker\": {\"colorbar\": {\"outlinewidth\": 0, \"tickcolor\": \"rgb(36,36,36)\", \"ticklen\": 8, \"ticks\": \"outside\", \"tickwidth\": 2}}, \"type\": \"scatter\"}], \"scatter3d\": [{\"line\": {\"colorbar\": {\"outlinewidth\": 0, \"tickcolor\": \"rgb(36,36,36)\", \"ticklen\": 8, \"ticks\": \"outside\", \"tickwidth\": 2}}, \"marker\": {\"colorbar\": {\"outlinewidth\": 0, \"tickcolor\": \"rgb(36,36,36)\", \"ticklen\": 8, \"ticks\": \"outside\", \"tickwidth\": 2}}, \"type\": \"scatter3d\"}], \"scattercarpet\": [{\"marker\": {\"colorbar\": {\"outlinewidth\": 0, \"tickcolor\": \"rgb(36,36,36)\", \"ticklen\": 8, \"ticks\": \"outside\", \"tickwidth\": 2}}, \"type\": \"scattercarpet\"}], \"scattergeo\": [{\"marker\": {\"colorbar\": {\"outlinewidth\": 0, \"tickcolor\": \"rgb(36,36,36)\", \"ticklen\": 8, \"ticks\": \"outside\", \"tickwidth\": 2}}, \"type\": \"scattergeo\"}], \"scattergl\": [{\"marker\": {\"colorbar\": {\"outlinewidth\": 0, \"tickcolor\": \"rgb(36,36,36)\", \"ticklen\": 8, \"ticks\": \"outside\", \"tickwidth\": 2}}, \"type\": \"scattergl\"}], \"scattermapbox\": [{\"marker\": {\"colorbar\": {\"outlinewidth\": 0, \"tickcolor\": \"rgb(36,36,36)\", \"ticklen\": 8, \"ticks\": \"outside\", \"tickwidth\": 2}}, \"type\": \"scattermapbox\"}], \"scatterpolar\": [{\"marker\": {\"colorbar\": {\"outlinewidth\": 0, \"tickcolor\": \"rgb(36,36,36)\", \"ticklen\": 8, \"ticks\": \"outside\", \"tickwidth\": 2}}, \"type\": \"scatterpolar\"}], \"scatterpolargl\": [{\"marker\": {\"colorbar\": {\"outlinewidth\": 0, \"tickcolor\": \"rgb(36,36,36)\", \"ticklen\": 8, \"ticks\": \"outside\", \"tickwidth\": 2}}, \"type\": \"scatterpolargl\"}], \"scatterternary\": [{\"marker\": {\"colorbar\": {\"outlinewidth\": 0, \"tickcolor\": \"rgb(36,36,36)\", \"ticklen\": 8, \"ticks\": \"outside\", \"tickwidth\": 2}}, \"type\": \"scatterternary\"}], \"surface\": [{\"colorbar\": {\"outlinewidth\": 0, \"tickcolor\": \"rgb(36,36,36)\", \"ticklen\": 8, \"ticks\": \"outside\", \"tickwidth\": 2}, \"colorscale\": [[0.0, \"rgb(2,4,25)\"], [0.06274509803921569, \"rgb(24,15,41)\"], [0.12549019607843137, \"rgb(47,23,57)\"], [0.18823529411764706, \"rgb(71,28,72)\"], [0.25098039215686274, \"rgb(97,30,82)\"], [0.3137254901960784, \"rgb(123,30,89)\"], [0.3764705882352941, \"rgb(150,27,91)\"], [0.4392156862745098, \"rgb(177,22,88)\"], [0.5019607843137255, \"rgb(203,26,79)\"], [0.5647058823529412, \"rgb(223,47,67)\"], [0.6274509803921569, \"rgb(236,76,61)\"], [0.6901960784313725, \"rgb(242,107,73)\"], [0.7529411764705882, \"rgb(244,135,95)\"], [0.8156862745098039, \"rgb(245,162,122)\"], [0.8784313725490196, \"rgb(246,188,153)\"], [0.9411764705882353, \"rgb(247,212,187)\"], [1.0, \"rgb(250,234,220)\"]], \"type\": \"surface\"}], \"table\": [{\"cells\": {\"fill\": {\"color\": \"rgb(231,231,240)\"}, \"line\": {\"color\": \"white\"}}, \"header\": {\"fill\": {\"color\": \"rgb(183,183,191)\"}, \"line\": {\"color\": \"white\"}}, \"type\": \"table\"}]}, \"layout\": {\"annotationdefaults\": {\"arrowcolor\": \"rgb(67,103,167)\"}, \"colorscale\": {\"sequential\": [[0.0, \"rgb(2,4,25)\"], [0.06274509803921569, \"rgb(24,15,41)\"], [0.12549019607843137, \"rgb(47,23,57)\"], [0.18823529411764706, \"rgb(71,28,72)\"], [0.25098039215686274, \"rgb(97,30,82)\"], [0.3137254901960784, \"rgb(123,30,89)\"], [0.3764705882352941, \"rgb(150,27,91)\"], [0.4392156862745098, \"rgb(177,22,88)\"], [0.5019607843137255, \"rgb(203,26,79)\"], [0.5647058823529412, \"rgb(223,47,67)\"], [0.6274509803921569, \"rgb(236,76,61)\"], [0.6901960784313725, \"rgb(242,107,73)\"], [0.7529411764705882, \"rgb(244,135,95)\"], [0.8156862745098039, \"rgb(245,162,122)\"], [0.8784313725490196, \"rgb(246,188,153)\"], [0.9411764705882353, \"rgb(247,212,187)\"], [1.0, \"rgb(250,234,220)\"]], \"sequentialminus\": [[0.0, \"rgb(2,4,25)\"], [0.06274509803921569, \"rgb(24,15,41)\"], [0.12549019607843137, \"rgb(47,23,57)\"], [0.18823529411764706, \"rgb(71,28,72)\"], [0.25098039215686274, \"rgb(97,30,82)\"], [0.3137254901960784, \"rgb(123,30,89)\"], [0.3764705882352941, \"rgb(150,27,91)\"], [0.4392156862745098, \"rgb(177,22,88)\"], [0.5019607843137255, \"rgb(203,26,79)\"], [0.5647058823529412, \"rgb(223,47,67)\"], [0.6274509803921569, \"rgb(236,76,61)\"], [0.6901960784313725, \"rgb(242,107,73)\"], [0.7529411764705882, \"rgb(244,135,95)\"], [0.8156862745098039, \"rgb(245,162,122)\"], [0.8784313725490196, \"rgb(246,188,153)\"], [0.9411764705882353, \"rgb(247,212,187)\"], [1.0, \"rgb(250,234,220)\"]]}, \"colorway\": [\"rgb(76,114,176)\", \"rgb(221,132,82)\", \"rgb(85,168,104)\", \"rgb(196,78,82)\", \"rgb(129,114,179)\", \"rgb(147,120,96)\", \"rgb(218,139,195)\", \"rgb(140,140,140)\", \"rgb(204,185,116)\", \"rgb(100,181,205)\"], \"font\": {\"color\": \"rgb(36,36,36)\"}, \"geo\": {\"bgcolor\": \"white\", \"lakecolor\": \"white\", \"landcolor\": \"rgb(234,234,242)\", \"showlakes\": true, \"showland\": true, \"subunitcolor\": \"white\"}, \"hoverlabel\": {\"align\": \"left\"}, \"hovermode\": \"closest\", \"paper_bgcolor\": \"white\", \"plot_bgcolor\": \"rgb(234,234,242)\", \"polar\": {\"angularaxis\": {\"gridcolor\": \"white\", \"linecolor\": \"white\", \"showgrid\": true, \"ticks\": \"\"}, \"bgcolor\": \"rgb(234,234,242)\", \"radialaxis\": {\"gridcolor\": \"white\", \"linecolor\": \"white\", \"showgrid\": true, \"ticks\": \"\"}}, \"scene\": {\"xaxis\": {\"backgroundcolor\": \"rgb(234,234,242)\", \"gridcolor\": \"white\", \"gridwidth\": 2, \"linecolor\": \"white\", \"showbackground\": true, \"showgrid\": true, \"ticks\": \"\", \"zerolinecolor\": \"white\"}, \"yaxis\": {\"backgroundcolor\": \"rgb(234,234,242)\", \"gridcolor\": \"white\", \"gridwidth\": 2, \"linecolor\": \"white\", \"showbackground\": true, \"showgrid\": true, \"ticks\": \"\", \"zerolinecolor\": \"white\"}, \"zaxis\": {\"backgroundcolor\": \"rgb(234,234,242)\", \"gridcolor\": \"white\", \"gridwidth\": 2, \"linecolor\": \"white\", \"showbackground\": true, \"showgrid\": true, \"ticks\": \"\", \"zerolinecolor\": \"white\"}}, \"shapedefaults\": {\"fillcolor\": \"rgb(67,103,167)\", \"line\": {\"width\": 0}, \"opacity\": 0.5}, \"ternary\": {\"aaxis\": {\"gridcolor\": \"white\", \"linecolor\": \"white\", \"showgrid\": true, \"ticks\": \"\"}, \"baxis\": {\"gridcolor\": \"white\", \"linecolor\": \"white\", \"showgrid\": true, \"ticks\": \"\"}, \"bgcolor\": \"rgb(234,234,242)\", \"caxis\": {\"gridcolor\": \"white\", \"linecolor\": \"white\", \"showgrid\": true, \"ticks\": \"\"}}, \"xaxis\": {\"automargin\": true, \"gridcolor\": \"white\", \"linecolor\": \"white\", \"showgrid\": true, \"ticks\": \"\", \"zerolinecolor\": \"white\"}, \"yaxis\": {\"automargin\": true, \"gridcolor\": \"white\", \"linecolor\": \"white\", \"showgrid\": true, \"ticks\": \"\", \"zerolinecolor\": \"white\"}}}, \"title\": {\"text\": \"Producci\\u00f3n Anual de Soja\"}, \"xaxis\": {\"anchor\": \"y\", \"domain\": [0.0, 0.98], \"title\": {\"text\": \"indice_tiempo\"}}, \"yaxis\": {\"anchor\": \"x\", \"domain\": [0.0, 1.0], \"title\": {\"text\": \"produccion_soja\"}}},\n",
              "                        {\"responsive\": true}\n",
              "                    ).then(function(){\n",
              "                            \n",
              "var gd = document.getElementById('5ac92909-a9cb-4c5f-bb6b-b073e96a4f9e');\n",
              "var x = new MutationObserver(function (mutations, observer) {{\n",
              "        var display = window.getComputedStyle(gd).display;\n",
              "        if (!display || display === 'none') {{\n",
              "            console.log([gd, 'removed!']);\n",
              "            Plotly.purge(gd);\n",
              "            observer.disconnect();\n",
              "        }}\n",
              "}});\n",
              "\n",
              "// Listen for the removal of the full notebook cells\n",
              "var notebookContainer = gd.closest('#notebook-container');\n",
              "if (notebookContainer) {{\n",
              "    x.observe(notebookContainer, {childList: true});\n",
              "}}\n",
              "\n",
              "// Listen for the clearing of the current output cell\n",
              "var outputEl = gd.closest('.output');\n",
              "if (outputEl) {{\n",
              "    x.observe(outputEl, {childList: true});\n",
              "}}\n",
              "\n",
              "                        })\n",
              "                };\n",
              "                \n",
              "            </script>\n",
              "        </div>\n",
              "</body>\n",
              "</html>"
            ]
          },
          "metadata": {
            "tags": []
          }
        }
      ]
    },
    {
      "cell_type": "code",
      "metadata": {
        "id": "4j_Vc1QsYrhl",
        "colab_type": "code",
        "outputId": "0b7ef9f9-a7a0-49c1-f95e-6f1eeaa0f53e",
        "colab": {
          "base_uri": "https://localhost:8080/",
          "height": 616
        }
      },
      "source": [
        "figura = px.bar(df, \n",
        "           x='indice_tiempo', \n",
        "           y='produccion_soja', \n",
        "           template='ggplot2',\n",
        "           title='Producción Anual de Soja',\n",
        "           hover_name='indice_tiempo',\n",
        "           labels={'indice_tiempo':'Año','produccion_soja':'Producción de Soja'})\n",
        "\n",
        "figura.show()"
      ],
      "execution_count": 0,
      "outputs": [
        {
          "output_type": "display_data",
          "data": {
            "text/html": [
              "<html>\n",
              "<head><meta charset=\"utf-8\" /></head>\n",
              "<body>\n",
              "    <div>\n",
              "            <script src=\"https://cdnjs.cloudflare.com/ajax/libs/mathjax/2.7.5/MathJax.js?config=TeX-AMS-MML_SVG\"></script><script type=\"text/javascript\">if (window.MathJax) {MathJax.Hub.Config({SVG: {font: \"STIX-Web\"}});}</script>\n",
              "                <script type=\"text/javascript\">window.PlotlyConfig = {MathJaxConfig: 'local'};</script>\n",
              "        <script src=\"https://cdn.plot.ly/plotly-latest.min.js\"></script>    \n",
              "            <div id=\"298aa2b7-b3c1-417f-83a3-62345ebf560e\" class=\"plotly-graph-div\" style=\"height:600px; width:100%;\"></div>\n",
              "            <script type=\"text/javascript\">\n",
              "                \n",
              "                    window.PLOTLYENV=window.PLOTLYENV || {};\n",
              "                    \n",
              "                if (document.getElementById(\"298aa2b7-b3c1-417f-83a3-62345ebf560e\")) {\n",
              "                    Plotly.newPlot(\n",
              "                        '298aa2b7-b3c1-417f-83a3-62345ebf560e',\n",
              "                        [{\"alignmentgroup\": \"True\", \"hoverlabel\": {\"namelength\": 0}, \"hovertemplate\": \"<b>%{hovertext}</b><br><br>A\\u00f1o=%{x}<br>Producci\\u00f3n de Soja=%{y}\", \"hovertext\": [1969.0, 1970.0, 1971.0, 1972.0, 1973.0, 1974.0, 1975.0, 1976.0, 1977.0, 1978.0, 1979.0, 1980.0, 1981.0, 1982.0, 1983.0, 1984.0, 1985.0, 1986.0, 1987.0, 1988.0, 1989.0, 1990.0, 1991.0, 1992.0, 1993.0, 1994.0, 1995.0, 1996.0, 1997.0, 1998.0, 1999.0, 2000.0, 2001.0, 2002.0, 2003.0, 2004.0, 2005.0, 2006.0, 2007.0, 2008.0, 2009.0, 2010.0, 2011.0, 2012.0, 2013.0, 2014.0, 2015.0, 2016.0, 2017.0], \"legendgroup\": \"\", \"marker\": {\"color\": \"#F8766D\"}, \"name\": \"\", \"offsetgroup\": \"\", \"orientation\": \"v\", \"showlegend\": false, \"textposition\": \"auto\", \"type\": \"bar\", \"x\": [1969, 1970, 1971, 1972, 1973, 1974, 1975, 1976, 1977, 1978, 1979, 1980, 1981, 1982, 1983, 1984, 1985, 1986, 1987, 1988, 1989, 1990, 1991, 1992, 1993, 1994, 1995, 1996, 1997, 1998, 1999, 2000, 2001, 2002, 2003, 2004, 2005, 2006, 2007, 2008, 2009, 2010, 2011, 2012, 2013, 2014, 2015, 2016, 2017], \"xaxis\": \"x\", \"y\": [26800, 59000, 78000, 271904, 495880, 485000, 695000, 1400000, 2500000, 3700000, 3500000, 3770000, 4150000, 4000000, 7000000, 6500000, 7100000, 6666400, 9900000, 6500000, 10700000, 10861200, 11308100, 11043400, 11719900, 12133000, 12448200, 11004890, 18732172, 20000000, 20135800, 27266253, 29991616, 34818550, 31576752, 38303289, 40537368, 47482787, 46238890, 30989474, 54247538, 48880986, 40100197, 49353642, 53397720, 61398276, 58799258, 54972546, 37787927], \"yaxis\": \"y\"}],\n",
              "                        {\"barmode\": \"relative\", \"height\": 600, \"legend\": {\"tracegroupgap\": 0}, \"template\": {\"data\": {\"bar\": [{\"error_x\": {\"color\": \"rgb(51,51,51)\"}, \"error_y\": {\"color\": \"rgb(51,51,51)\"}, \"marker\": {\"line\": {\"color\": \"rgb(237,237,237)\", \"width\": 0.5}}, \"type\": \"bar\"}], \"barpolar\": [{\"marker\": {\"line\": {\"color\": \"rgb(237,237,237)\", \"width\": 0.5}}, \"type\": \"barpolar\"}], \"carpet\": [{\"aaxis\": {\"endlinecolor\": \"rgb(51,51,51)\", \"gridcolor\": \"white\", \"linecolor\": \"white\", \"minorgridcolor\": \"white\", \"startlinecolor\": \"rgb(51,51,51)\"}, \"baxis\": {\"endlinecolor\": \"rgb(51,51,51)\", \"gridcolor\": \"white\", \"linecolor\": \"white\", \"minorgridcolor\": \"white\", \"startlinecolor\": \"rgb(51,51,51)\"}, \"type\": \"carpet\"}], \"choropleth\": [{\"colorbar\": {\"outlinewidth\": 0, \"tickcolor\": \"rgb(237,237,237)\", \"ticklen\": 6, \"ticks\": \"inside\"}, \"type\": \"choropleth\"}], \"contour\": [{\"colorbar\": {\"outlinewidth\": 0, \"tickcolor\": \"rgb(237,237,237)\", \"ticklen\": 6, \"ticks\": \"inside\"}, \"colorscale\": [[0, \"rgb(20,44,66)\"], [1, \"rgb(90,179,244)\"]], \"type\": \"contour\"}], \"contourcarpet\": [{\"colorbar\": {\"outlinewidth\": 0, \"tickcolor\": \"rgb(237,237,237)\", \"ticklen\": 6, \"ticks\": \"inside\"}, \"type\": \"contourcarpet\"}], \"heatmap\": [{\"colorbar\": {\"outlinewidth\": 0, \"tickcolor\": \"rgb(237,237,237)\", \"ticklen\": 6, \"ticks\": \"inside\"}, \"colorscale\": [[0, \"rgb(20,44,66)\"], [1, \"rgb(90,179,244)\"]], \"type\": \"heatmap\"}], \"heatmapgl\": [{\"colorbar\": {\"outlinewidth\": 0, \"tickcolor\": \"rgb(237,237,237)\", \"ticklen\": 6, \"ticks\": \"inside\"}, \"colorscale\": [[0, \"rgb(20,44,66)\"], [1, \"rgb(90,179,244)\"]], \"type\": \"heatmapgl\"}], \"histogram\": [{\"marker\": {\"colorbar\": {\"outlinewidth\": 0, \"tickcolor\": \"rgb(237,237,237)\", \"ticklen\": 6, \"ticks\": \"inside\"}}, \"type\": \"histogram\"}], \"histogram2d\": [{\"colorbar\": {\"outlinewidth\": 0, \"tickcolor\": \"rgb(237,237,237)\", \"ticklen\": 6, \"ticks\": \"inside\"}, \"colorscale\": [[0, \"rgb(20,44,66)\"], [1, \"rgb(90,179,244)\"]], \"type\": \"histogram2d\"}], \"histogram2dcontour\": [{\"colorbar\": {\"outlinewidth\": 0, \"tickcolor\": \"rgb(237,237,237)\", \"ticklen\": 6, \"ticks\": \"inside\"}, \"colorscale\": [[0, \"rgb(20,44,66)\"], [1, \"rgb(90,179,244)\"]], \"type\": \"histogram2dcontour\"}], \"mesh3d\": [{\"colorbar\": {\"outlinewidth\": 0, \"tickcolor\": \"rgb(237,237,237)\", \"ticklen\": 6, \"ticks\": \"inside\"}, \"type\": \"mesh3d\"}], \"parcoords\": [{\"line\": {\"colorbar\": {\"outlinewidth\": 0, \"tickcolor\": \"rgb(237,237,237)\", \"ticklen\": 6, \"ticks\": \"inside\"}}, \"type\": \"parcoords\"}], \"scatter\": [{\"marker\": {\"colorbar\": {\"outlinewidth\": 0, \"tickcolor\": \"rgb(237,237,237)\", \"ticklen\": 6, \"ticks\": \"inside\"}}, \"type\": \"scatter\"}], \"scatter3d\": [{\"line\": {\"colorbar\": {\"outlinewidth\": 0, \"tickcolor\": \"rgb(237,237,237)\", \"ticklen\": 6, \"ticks\": \"inside\"}}, \"marker\": {\"colorbar\": {\"outlinewidth\": 0, \"tickcolor\": \"rgb(237,237,237)\", \"ticklen\": 6, \"ticks\": \"inside\"}}, \"type\": \"scatter3d\"}], \"scattercarpet\": [{\"marker\": {\"colorbar\": {\"outlinewidth\": 0, \"tickcolor\": \"rgb(237,237,237)\", \"ticklen\": 6, \"ticks\": \"inside\"}}, \"type\": \"scattercarpet\"}], \"scattergeo\": [{\"marker\": {\"colorbar\": {\"outlinewidth\": 0, \"tickcolor\": \"rgb(237,237,237)\", \"ticklen\": 6, \"ticks\": \"inside\"}}, \"type\": \"scattergeo\"}], \"scattergl\": [{\"marker\": {\"colorbar\": {\"outlinewidth\": 0, \"tickcolor\": \"rgb(237,237,237)\", \"ticklen\": 6, \"ticks\": \"inside\"}}, \"type\": \"scattergl\"}], \"scattermapbox\": [{\"marker\": {\"colorbar\": {\"outlinewidth\": 0, \"tickcolor\": \"rgb(237,237,237)\", \"ticklen\": 6, \"ticks\": \"inside\"}}, \"type\": \"scattermapbox\"}], \"scatterpolar\": [{\"marker\": {\"colorbar\": {\"outlinewidth\": 0, \"tickcolor\": \"rgb(237,237,237)\", \"ticklen\": 6, \"ticks\": \"inside\"}}, \"type\": \"scatterpolar\"}], \"scatterpolargl\": [{\"marker\": {\"colorbar\": {\"outlinewidth\": 0, \"tickcolor\": \"rgb(237,237,237)\", \"ticklen\": 6, \"ticks\": \"inside\"}}, \"type\": \"scatterpolargl\"}], \"scatterternary\": [{\"marker\": {\"colorbar\": {\"outlinewidth\": 0, \"tickcolor\": \"rgb(237,237,237)\", \"ticklen\": 6, \"ticks\": \"inside\"}}, \"type\": \"scatterternary\"}], \"surface\": [{\"colorbar\": {\"outlinewidth\": 0, \"tickcolor\": \"rgb(237,237,237)\", \"ticklen\": 6, \"ticks\": \"inside\"}, \"colorscale\": [[0, \"rgb(20,44,66)\"], [1, \"rgb(90,179,244)\"]], \"type\": \"surface\"}], \"table\": [{\"cells\": {\"fill\": {\"color\": \"rgb(237,237,237)\"}, \"line\": {\"color\": \"white\"}}, \"header\": {\"fill\": {\"color\": \"rgb(217,217,217)\"}, \"line\": {\"color\": \"white\"}}, \"type\": \"table\"}]}, \"layout\": {\"annotationdefaults\": {\"arrowhead\": 0, \"arrowwidth\": 1}, \"colorscale\": {\"sequential\": [[0, \"rgb(20,44,66)\"], [1, \"rgb(90,179,244)\"]], \"sequentialminus\": [[0, \"rgb(20,44,66)\"], [1, \"rgb(90,179,244)\"]]}, \"colorway\": [\"#F8766D\", \"#A3A500\", \"#00BF7D\", \"#00B0F6\", \"#E76BF3\"], \"font\": {\"color\": \"rgb(51,51,51)\"}, \"geo\": {\"bgcolor\": \"white\", \"lakecolor\": \"white\", \"landcolor\": \"rgb(237,237,237)\", \"showlakes\": true, \"showland\": true, \"subunitcolor\": \"white\"}, \"hoverlabel\": {\"align\": \"left\"}, \"hovermode\": \"closest\", \"paper_bgcolor\": \"white\", \"plot_bgcolor\": \"rgb(237,237,237)\", \"polar\": {\"angularaxis\": {\"gridcolor\": \"white\", \"linecolor\": \"white\", \"showgrid\": true, \"tickcolor\": \"rgb(51,51,51)\", \"ticks\": \"outside\"}, \"bgcolor\": \"rgb(237,237,237)\", \"radialaxis\": {\"gridcolor\": \"white\", \"linecolor\": \"white\", \"showgrid\": true, \"tickcolor\": \"rgb(51,51,51)\", \"ticks\": \"outside\"}}, \"scene\": {\"xaxis\": {\"backgroundcolor\": \"rgb(237,237,237)\", \"gridcolor\": \"white\", \"gridwidth\": 2, \"linecolor\": \"white\", \"showbackground\": true, \"showgrid\": true, \"tickcolor\": \"rgb(51,51,51)\", \"ticks\": \"outside\", \"zerolinecolor\": \"white\"}, \"yaxis\": {\"backgroundcolor\": \"rgb(237,237,237)\", \"gridcolor\": \"white\", \"gridwidth\": 2, \"linecolor\": \"white\", \"showbackground\": true, \"showgrid\": true, \"tickcolor\": \"rgb(51,51,51)\", \"ticks\": \"outside\", \"zerolinecolor\": \"white\"}, \"zaxis\": {\"backgroundcolor\": \"rgb(237,237,237)\", \"gridcolor\": \"white\", \"gridwidth\": 2, \"linecolor\": \"white\", \"showbackground\": true, \"showgrid\": true, \"tickcolor\": \"rgb(51,51,51)\", \"ticks\": \"outside\", \"zerolinecolor\": \"white\"}}, \"shapedefaults\": {\"fillcolor\": \"black\", \"line\": {\"width\": 0}, \"opacity\": 0.3}, \"ternary\": {\"aaxis\": {\"gridcolor\": \"white\", \"linecolor\": \"white\", \"showgrid\": true, \"tickcolor\": \"rgb(51,51,51)\", \"ticks\": \"outside\"}, \"baxis\": {\"gridcolor\": \"white\", \"linecolor\": \"white\", \"showgrid\": true, \"tickcolor\": \"rgb(51,51,51)\", \"ticks\": \"outside\"}, \"bgcolor\": \"rgb(237,237,237)\", \"caxis\": {\"gridcolor\": \"white\", \"linecolor\": \"white\", \"showgrid\": true, \"tickcolor\": \"rgb(51,51,51)\", \"ticks\": \"outside\"}}, \"xaxis\": {\"automargin\": true, \"gridcolor\": \"white\", \"linecolor\": \"white\", \"showgrid\": true, \"tickcolor\": \"rgb(51,51,51)\", \"ticks\": \"outside\", \"zerolinecolor\": \"white\"}, \"yaxis\": {\"automargin\": true, \"gridcolor\": \"white\", \"linecolor\": \"white\", \"showgrid\": true, \"tickcolor\": \"rgb(51,51,51)\", \"ticks\": \"outside\", \"zerolinecolor\": \"white\"}}}, \"title\": {\"text\": \"Producci\\u00f3n Anual de Soja\"}, \"xaxis\": {\"anchor\": \"y\", \"domain\": [0.0, 0.98], \"title\": {\"text\": \"A\\u00f1o\"}}, \"yaxis\": {\"anchor\": \"x\", \"domain\": [0.0, 1.0], \"title\": {\"text\": \"Producci\\u00f3n de Soja\"}}},\n",
              "                        {\"responsive\": true}\n",
              "                    ).then(function(){\n",
              "                            \n",
              "var gd = document.getElementById('298aa2b7-b3c1-417f-83a3-62345ebf560e');\n",
              "var x = new MutationObserver(function (mutations, observer) {{\n",
              "        var display = window.getComputedStyle(gd).display;\n",
              "        if (!display || display === 'none') {{\n",
              "            console.log([gd, 'removed!']);\n",
              "            Plotly.purge(gd);\n",
              "            observer.disconnect();\n",
              "        }}\n",
              "}});\n",
              "\n",
              "// Listen for the removal of the full notebook cells\n",
              "var notebookContainer = gd.closest('#notebook-container');\n",
              "if (notebookContainer) {{\n",
              "    x.observe(notebookContainer, {childList: true});\n",
              "}}\n",
              "\n",
              "// Listen for the clearing of the current output cell\n",
              "var outputEl = gd.closest('.output');\n",
              "if (outputEl) {{\n",
              "    x.observe(outputEl, {childList: true});\n",
              "}}\n",
              "\n",
              "                        })\n",
              "                };\n",
              "                \n",
              "            </script>\n",
              "        </div>\n",
              "</body>\n",
              "</html>"
            ]
          },
          "metadata": {
            "tags": []
          }
        }
      ]
    },
    {
      "cell_type": "code",
      "metadata": {
        "id": "1Apod1uQWI2z",
        "colab_type": "code",
        "colab": {}
      },
      "source": [
        "figura.write_html('imagen.html')"
      ],
      "execution_count": 0,
      "outputs": []
    },
    {
      "cell_type": "markdown",
      "metadata": {
        "id": "3ha0_iSC3LhJ",
        "colab_type": "text"
      },
      "source": [
        "Vamos a probar otra librería para visualización interactiva de datos, sugiero revisar la documentación para conocer usos más avanzados, aquí solo se presenta de forma muy básica."
      ]
    },
    {
      "cell_type": "code",
      "metadata": {
        "id": "D2RU8mA_FRwS",
        "colab_type": "code",
        "colab": {}
      },
      "source": [
        "import altair as alt"
      ],
      "execution_count": 0,
      "outputs": []
    },
    {
      "cell_type": "code",
      "metadata": {
        "id": "qiY4QywtJZFv",
        "colab_type": "code",
        "outputId": "5d46b09e-8948-4de6-c452-b00c2ff801cd",
        "colab": {
          "base_uri": "https://localhost:8080/",
          "height": 413
        }
      },
      "source": [
        "alt.Chart(df).mark_line().encode(\n",
        "  x='indice_tiempo:T',\n",
        "  y='produccion_soja',\n",
        "  tooltip=['produccion_soja']\n",
        ").interactive().properties(\n",
        "    width=800,\n",
        "    height=350\n",
        ")"
      ],
      "execution_count": 0,
      "outputs": [
        {
          "output_type": "execute_result",
          "data": {
            "text/plain": [
              "alt.Chart(...)"
            ],
            "text/html": [
              "<!DOCTYPE html>\n",
              "<html>\n",
              "<head>\n",
              "  <style>\n",
              "    .vega-actions a {\n",
              "        margin-right: 12px;\n",
              "        color: #757575;\n",
              "        font-weight: normal;\n",
              "        font-size: 13px;\n",
              "    }\n",
              "    .error {\n",
              "        color: red;\n",
              "    }\n",
              "  </style>\n",
              "  <script type=\"text/javascript\" src=\"https://cdn.jsdelivr.net/npm//vega@5\"></script>\n",
              "  <script type=\"text/javascript\" src=\"https://cdn.jsdelivr.net/npm//vega-lite@3.4.0\"></script>\n",
              "  <script type=\"text/javascript\" src=\"https://cdn.jsdelivr.net/npm//vega-embed@4\"></script>\n",
              "</head>\n",
              "<body>\n",
              "  <div id=\"altair-viz\"></div>\n",
              "  <script>\n",
              "    (function(vegaEmbed) {\n",
              "      var spec = {\"config\": {\"view\": {\"width\": 400, \"height\": 300}, \"mark\": {\"tooltip\": null}}, \"data\": {\"name\": \"data-2c2221a0cfefaadc2adb4bbf057fac72\"}, \"mark\": \"line\", \"encoding\": {\"tooltip\": [{\"type\": \"quantitative\", \"field\": \"produccion_soja\"}], \"x\": {\"type\": \"temporal\", \"field\": \"indice_tiempo\"}, \"y\": {\"type\": \"quantitative\", \"field\": \"produccion_soja\"}}, \"height\": 350, \"selection\": {\"selector014\": {\"type\": \"interval\", \"bind\": \"scales\", \"encodings\": [\"x\", \"y\"]}}, \"width\": 800, \"$schema\": \"https://vega.github.io/schema/vega-lite/v3.4.0.json\", \"datasets\": {\"data-2c2221a0cfefaadc2adb4bbf057fac72\": [{\"indice_tiempo\": 1969, \"superficie_sembrada_soja\": 30470, \"superficie_cosechada_soja\": 25970, \"produccion_soja\": 26800, \"rendimiento_soja\": 1032}, {\"indice_tiempo\": 1970, \"superficie_sembrada_soja\": 37700, \"superficie_cosechada_soja\": 36330, \"produccion_soja\": 59000, \"rendimiento_soja\": 1624}, {\"indice_tiempo\": 1971, \"superficie_sembrada_soja\": 79800, \"superficie_cosechada_soja\": 68000, \"produccion_soja\": 78000, \"rendimiento_soja\": 1147}, {\"indice_tiempo\": 1972, \"superficie_sembrada_soja\": 169360, \"superficie_cosechada_soja\": 156950, \"produccion_soja\": 271904, \"rendimiento_soja\": 1732}, {\"indice_tiempo\": 1973, \"superficie_sembrada_soja\": 376600, \"superficie_cosechada_soja\": 344340, \"produccion_soja\": 495880, \"rendimiento_soja\": 1440}, {\"indice_tiempo\": 1974, \"superficie_sembrada_soja\": 369500, \"superficie_cosechada_soja\": 355940, \"produccion_soja\": 485000, \"rendimiento_soja\": 1363}, {\"indice_tiempo\": 1975, \"superficie_sembrada_soja\": 442500, \"superficie_cosechada_soja\": 433500, \"produccion_soja\": 695000, \"rendimiento_soja\": 1603}, {\"indice_tiempo\": 1976, \"superficie_sembrada_soja\": 710000, \"superficie_cosechada_soja\": 660000, \"produccion_soja\": 1400000, \"rendimiento_soja\": 2121}, {\"indice_tiempo\": 1977, \"superficie_sembrada_soja\": 1200000, \"superficie_cosechada_soja\": 1150000, \"produccion_soja\": 2500000, \"rendimiento_soja\": 2174}, {\"indice_tiempo\": 1978, \"superficie_sembrada_soja\": 1640000, \"superficie_cosechada_soja\": 1600000, \"produccion_soja\": 3700000, \"rendimiento_soja\": 2313}, {\"indice_tiempo\": 1979, \"superficie_sembrada_soja\": 2100000, \"superficie_cosechada_soja\": 2030000, \"produccion_soja\": 3500000, \"rendimiento_soja\": 1724}, {\"indice_tiempo\": 1980, \"superficie_sembrada_soja\": 1925000, \"superficie_cosechada_soja\": 1880000, \"produccion_soja\": 3770000, \"rendimiento_soja\": 2005}, {\"indice_tiempo\": 1981, \"superficie_sembrada_soja\": 2040000, \"superficie_cosechada_soja\": 1985600, \"produccion_soja\": 4150000, \"rendimiento_soja\": 2090}, {\"indice_tiempo\": 1982, \"superficie_sembrada_soja\": 2362000, \"superficie_cosechada_soja\": 2280700, \"produccion_soja\": 4000000, \"rendimiento_soja\": 1754}, {\"indice_tiempo\": 1983, \"superficie_sembrada_soja\": 2920000, \"superficie_cosechada_soja\": 2910000, \"produccion_soja\": 7000000, \"rendimiento_soja\": 2406}, {\"indice_tiempo\": 1984, \"superficie_sembrada_soja\": 3300000, \"superficie_cosechada_soja\": 3269000, \"produccion_soja\": 6500000, \"rendimiento_soja\": 1988}, {\"indice_tiempo\": 1985, \"superficie_sembrada_soja\": 3340000, \"superficie_cosechada_soja\": 3316000, \"produccion_soja\": 7100000, \"rendimiento_soja\": 2141}, {\"indice_tiempo\": 1986, \"superficie_sembrada_soja\": 3684000, \"superficie_cosechada_soja\": 3516650, \"produccion_soja\": 6666400, \"rendimiento_soja\": 1896}, {\"indice_tiempo\": 1987, \"superficie_sembrada_soja\": 4413000, \"superficie_cosechada_soja\": 4373200, \"produccion_soja\": 9900000, \"rendimiento_soja\": 2264}, {\"indice_tiempo\": 1988, \"superficie_sembrada_soja\": 4670000, \"superficie_cosechada_soja\": 3931250, \"produccion_soja\": 6500000, \"rendimiento_soja\": 1653}, {\"indice_tiempo\": 1989, \"superficie_sembrada_soja\": 5100000, \"superficie_cosechada_soja\": 4961600, \"produccion_soja\": 10700000, \"rendimiento_soja\": 2157}, {\"indice_tiempo\": 1990, \"superficie_sembrada_soja\": 4966200, \"superficie_cosechada_soja\": 4774100, \"produccion_soja\": 10861200, \"rendimiento_soja\": 2275}, {\"indice_tiempo\": 1991, \"superficie_sembrada_soja\": 5003000, \"superficie_cosechada_soja\": 4934810, \"produccion_soja\": 11308100, \"rendimiento_soja\": 2292}, {\"indice_tiempo\": 1992, \"superficie_sembrada_soja\": 5318410, \"superficie_cosechada_soja\": 5115085, \"produccion_soja\": 11043400, \"rendimiento_soja\": 2159}, {\"indice_tiempo\": 1993, \"superficie_sembrada_soja\": 5817490, \"superficie_cosechada_soja\": 5748910, \"produccion_soja\": 11719900, \"rendimiento_soja\": 2039}, {\"indice_tiempo\": 1994, \"superficie_sembrada_soja\": 6011240, \"superficie_cosechada_soja\": 5934160, \"produccion_soja\": 12133000, \"rendimiento_soja\": 2045}, {\"indice_tiempo\": 1995, \"superficie_sembrada_soja\": 6002155, \"superficie_cosechada_soja\": 5913415, \"produccion_soja\": 12448200, \"rendimiento_soja\": 2105}, {\"indice_tiempo\": 1996, \"superficie_sembrada_soja\": 6669500, \"superficie_cosechada_soja\": 6393780, \"produccion_soja\": 11004890, \"rendimiento_soja\": 1721}, {\"indice_tiempo\": 1997, \"superficie_sembrada_soja\": 7176250, \"superficie_cosechada_soja\": 6954120, \"produccion_soja\": 18732172, \"rendimiento_soja\": 2694}, {\"indice_tiempo\": 1998, \"superficie_sembrada_soja\": 8400000, \"superficie_cosechada_soja\": 8180000, \"produccion_soja\": 20000000, \"rendimiento_soja\": 2445}, {\"indice_tiempo\": 1999, \"superficie_sembrada_soja\": 8790500, \"superficie_cosechada_soja\": 8637503, \"produccion_soja\": 20135800, \"rendimiento_soja\": 2331}, {\"indice_tiempo\": 2000, \"superficie_sembrada_soja\": 10927330, \"superficie_cosechada_soja\": 10612893, \"produccion_soja\": 27266253, \"rendimiento_soja\": 2569}, {\"indice_tiempo\": 2001, \"superficie_sembrada_soja\": 11637660, \"superficie_cosechada_soja\": 11404102, \"produccion_soja\": 29991616, \"rendimiento_soja\": 263}, {\"indice_tiempo\": 2002, \"superficie_sembrada_soja\": 12606845, \"superficie_cosechada_soja\": 12419995, \"produccion_soja\": 34818550, \"rendimiento_soja\": 2803}, {\"indice_tiempo\": 2003, \"superficie_sembrada_soja\": 14526606, \"superficie_cosechada_soja\": 14304539, \"produccion_soja\": 31576752, \"rendimiento_soja\": 2207}, {\"indice_tiempo\": 2004, \"superficie_sembrada_soja\": 14401921, \"superficie_cosechada_soja\": 14039166, \"produccion_soja\": 38303289, \"rendimiento_soja\": 2728}, {\"indice_tiempo\": 2005, \"superficie_sembrada_soja\": 15393474, \"superficie_cosechada_soja\": 15130038, \"produccion_soja\": 40537368, \"rendimiento_soja\": 2679}, {\"indice_tiempo\": 2006, \"superficie_sembrada_soja\": 16141338, \"superficie_cosechada_soja\": 15981265, \"produccion_soja\": 47482787, \"rendimiento_soja\": 2971}, {\"indice_tiempo\": 2007, \"superficie_sembrada_soja\": 16608935, \"superficie_cosechada_soja\": 16389509, \"produccion_soja\": 46238890, \"rendimiento_soja\": 2821}, {\"indice_tiempo\": 2008, \"superficie_sembrada_soja\": 18042895, \"superficie_cosechada_soja\": 16771004, \"produccion_soja\": 30989474, \"rendimiento_soja\": 1848}, {\"indice_tiempo\": 2009, \"superficie_sembrada_soja\": 18860732, \"superficie_cosechada_soja\": 18675637, \"produccion_soja\": 54247538, \"rendimiento_soja\": 2905}, {\"indice_tiempo\": 2010, \"superficie_sembrada_soja\": 18884309, \"superficie_cosechada_soja\": 18747077, \"produccion_soja\": 48880986, \"rendimiento_soja\": 2607}, {\"indice_tiempo\": 2011, \"superficie_sembrada_soja\": 18670937, \"superficie_cosechada_soja\": 17577320, \"produccion_soja\": 40100197, \"rendimiento_soja\": 2281}, {\"indice_tiempo\": 2012, \"superficie_sembrada_soja\": 20035572, \"superficie_cosechada_soja\": 19418825, \"produccion_soja\": 49353642, \"rendimiento_soja\": 2542}, {\"indice_tiempo\": 2013, \"superficie_sembrada_soja\": 19704942, \"superficie_cosechada_soja\": 19252552, \"produccion_soja\": 53397720, \"rendimiento_soja\": 2774}, {\"indice_tiempo\": 2014, \"superficie_sembrada_soja\": 19792100, \"superficie_cosechada_soja\": 19334915, \"produccion_soja\": 61398276, \"rendimiento_soja\": 3176}, {\"indice_tiempo\": 2015, \"superficie_sembrada_soja\": 20479090, \"superficie_cosechada_soja\": 19507728, \"produccion_soja\": 58799258, \"rendimiento_soja\": 3014}, {\"indice_tiempo\": 2016, \"superficie_sembrada_soja\": 18057162, \"superficie_cosechada_soja\": 17335666, \"produccion_soja\": 54972546, \"rendimiento_soja\": 3171}, {\"indice_tiempo\": 2017, \"superficie_sembrada_soja\": 17259260, \"superficie_cosechada_soja\": 16318060, \"produccion_soja\": 37787927, \"rendimiento_soja\": 2316}]}};\n",
              "      var embedOpt = {\"mode\": \"vega-lite\"};\n",
              "\n",
              "      function showError(el, error){\n",
              "          el.innerHTML = ('<div class=\"error\" style=\"color:red;\">'\n",
              "                          + '<p>JavaScript Error: ' + error.message + '</p>'\n",
              "                          + \"<p>This usually means there's a typo in your chart specification. \"\n",
              "                          + \"See the javascript console for the full traceback.</p>\"\n",
              "                          + '</div>');\n",
              "          throw error;\n",
              "      }\n",
              "      const el = document.getElementById('altair-viz');\n",
              "      vegaEmbed(\"#altair-viz\", spec, embedOpt)\n",
              "        .catch(error => showError(el, error));\n",
              "    })(vegaEmbed);\n",
              "\n",
              "  </script>\n",
              "</body>\n",
              "</html>"
            ]
          },
          "metadata": {
            "tags": []
          },
          "execution_count": 88
        }
      ]
    },
    {
      "cell_type": "markdown",
      "metadata": {
        "id": "bbToi20az7gu",
        "colab_type": "text"
      },
      "source": [
        "# Conexión con Drive:"
      ]
    },
    {
      "cell_type": "markdown",
      "metadata": {
        "id": "bRIjhIj20FFK",
        "colab_type": "text"
      },
      "source": [
        "Puesto que la instancia de Colab se reinicia cada 12 horas, es importante saber que se cuentan con opciones para salvar el estado de nuestro notebook. Una manera de hacerlo es utilizando nuestro Google Drive para guardar aquellas variables que, por ejemplo, hayan costado un tiempo de cómputo significativo.\n"
      ]
    },
    {
      "cell_type": "code",
      "metadata": {
        "id": "r6QjrlIz0x1T",
        "colab_type": "code",
        "colab": {}
      },
      "source": [
        "from google.colab import drive\n",
        "\n",
        "drive.mount('/MiDisco', force_remount=True)#El argumento de la función es la 'ruta' por la que se accederá a la sesión de Google Drive.\n",
        "#Nota: Para acceder a los datos, se requiere autorización de sesión"
      ],
      "execution_count": 0,
      "outputs": []
    },
    {
      "cell_type": "markdown",
      "metadata": {
        "id": "9a2it3ipGVBW",
        "colab_type": "text"
      },
      "source": [
        "# El verdadero poder de Colab:"
      ]
    },
    {
      "cell_type": "markdown",
      "metadata": {
        "id": "-TvEsSy1GZvF",
        "colab_type": "text"
      },
      "source": [
        "En mi opinión personal, el verdadero potencial de Colab reside en su capacidad de permitir compartir conocimientos reproducibles (uno de los mayores problemas que ha tenido el desarrollo científico). Para demostrar a lo que me refiero, les dejo tres proyectos que me han parecido buenísimos, en todos ellos, o usaron Colab o un notebook que sería fácilmente trasladable y reproducible en Colab:\n",
        "\n",
        "\n",
        "1.   ¿Cómo \"ven\" las redes convolucionales? Mapas de Atención:\n",
        "https://colab.research.google.com/github/zaidalyafeai/AttentioNN/blob/master/Attention_Maps.ipynb#scrollTo=upVb4TD-xUdY\n",
        "\n",
        "2.   Analizando el comportamiento de la soja. Análisis de series de tiempo:\n",
        "http://lambdaclass.com/finance_playground/metadata-2019/soy-price-prediction.html\n",
        "\n",
        "3.   Machine Learning con Arduino. ¡Primeros pasos de la SkyNet!:\n",
        "https://blog.arduino.cc/2019/10/15/get-started-with-machine-learning-on-arduino/\n",
        "\n",
        "\n",
        "\n",
        "\n",
        "\n"
      ]
    },
    {
      "cell_type": "code",
      "metadata": {
        "id": "E1Ejdy8H2DwP",
        "colab_type": "code",
        "colab": {}
      },
      "source": [
        ""
      ],
      "execution_count": 0,
      "outputs": []
    }
  ]
}
